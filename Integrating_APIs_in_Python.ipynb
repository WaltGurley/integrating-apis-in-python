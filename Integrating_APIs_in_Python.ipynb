{
  "nbformat": 4,
  "nbformat_minor": 0,
  "metadata": {
    "colab": {
      "name": "Integrating APIs in Python.ipynb",
      "version": "0.3.2",
      "provenance": [],
      "collapsed_sections": [],
      "toc_visible": true,
      "include_colab_link": true
    },
    "kernelspec": {
      "name": "python3",
      "display_name": "Python 3"
    }
  },
  "cells": [
    {
      "cell_type": "markdown",
      "metadata": {
        "id": "view-in-github",
        "colab_type": "text"
      },
      "source": [
        "<a href=\"https://colab.research.google.com/github/WaltGurley/integrating-apis-in-python/blob/master/Integrating_APIs_in_Python.ipynb\" target=\"_parent\"><img src=\"https://colab.research.google.com/assets/colab-badge.svg\" alt=\"Open In Colab\"/></a>"
      ]
    },
    {
      "metadata": {
        "id": "0CurJTzfFARN",
        "colab_type": "text"
      },
      "cell_type": "markdown",
      "source": [
        "# Integrating APIs in Python\n",
        "\n",
        "This workshop provides an introduction to interacting with data APIs using the Python programming language. We will cover connecting to a dataset using an API, querying data using a defined protocol, converting and formatting data for use in Python, and basic data analysis and visualization.\n",
        "\n",
        "*The source of this notebook is located at https://go.ncsu.edu/apis-python*"
      ]
    },
    {
      "metadata": {
        "id": "fnMpYKr_9NmV",
        "colab_type": "text"
      },
      "cell_type": "markdown",
      "source": [
        "# Introduction: A brief overview of web data APIs and JSON\n",
        "---"
      ]
    },
    {
      "metadata": {
        "id": "9zdrbOObs41t",
        "colab_type": "text"
      },
      "cell_type": "markdown",
      "source": [
        "## Web Data APIs\n",
        "\n",
        ">When used in the context of web development, an API is typically a defined set of specifications, such as Hypertext Transfer Protocol (HTTP) request messages, along with a definition of the structure of response messages, which is usually in an Extensible Markup Language (XML) or JavaScript Object Notation (JSON) format.\n",
        "\n",
        "[Wikipedia](https://en.wikipedia.org/wiki/Application_programming_interface#Web_APIs)\n",
        "\n",
        "![alt text](http://media2.govtech.com/images/940*603/api_infographic_smartfile_crop.jpg)\n",
        "\n",
        "Retrieved from [What's an API and Why Do You Need One?](http://www.govtech.com/applications/Whats-an-API-and-Why-Do-You-Need-One.html)\n"
      ]
    },
    {
      "metadata": {
        "id": "8Hq3WZgFtql7",
        "colab_type": "text"
      },
      "cell_type": "markdown",
      "source": [
        "## Examples of Web APIs\n",
        "\n",
        "- [Twitter APIs](https://developer.twitter.com/en/docs.html)\n",
        "- [Data.gov APIs](https://api.data.gov/)\n",
        "- [The Star Wars API (SWAPI)](https://swapi.co/)\n",
        "- [Google Dataset Search](https://toolbox.google.com/datasetsearch/search?query=format%3Aapi)"
      ]
    },
    {
      "metadata": {
        "id": "PLzMDo5jpgG3",
        "colab_type": "text"
      },
      "cell_type": "markdown",
      "source": [
        "## JSON Data Types\n",
        "\n",
        "- Strings: `\"name\":\"Jacob\"`\n",
        "- Numbers: `\"age\":30`\n",
        "- Objects: `\"employee\": { \"name\":\"Jacob\", \"age\":30}`\n",
        "- Arrays: `\"employees\": [\"Jacob\", \"Walt\"]`\n",
        "- Booleans: `\"librarian\":true`\n",
        "\n",
        "[More on JSON Data Types](https://www.w3schools.com/js/js_json_datatypes.asp)"
      ]
    },
    {
      "metadata": {
        "id": "lRdw1Y9sqlDP",
        "colab_type": "text"
      },
      "cell_type": "markdown",
      "source": [
        "## Complex JSON Example\n",
        "\n",
        "```json\n",
        "{\n",
        "  \"paintings\": [\n",
        "    {\n",
        "      \"name\": \"The Scream\",\n",
        "      \"url\": \"https://en.wikipedia.org/wiki/The_Scream\",\n",
        "      \"creator\": {\n",
        "        \"@type\": \"Person\",\n",
        "        \"name\": \"Edvard Munch\",\n",
        "        \"sameAs\": \"https://en.wikipedia.org/wiki/Edvard_Munch\"\n",
        "      }\n",
        "    },\n",
        "    {\n",
        "      \"name\": \"Melancholy\",\n",
        "      \"url\": \"https://en.wikipedia.org/wiki/Melancholy_(Edvard_Munch)\",\n",
        "      \"creator\": {\n",
        "        \"@type\": \"Person\",\n",
        "        \"name\": \"Edvard Munch\",\n",
        "        \"sameAs\": \"https://en.wikipedia.org/wiki/Edvard_Munch\"\n",
        "      }\n",
        "    }\n",
        "  ]\n",
        "}\n",
        "```"
      ]
    },
    {
      "metadata": {
        "id": "TTAccGYL9fZj",
        "colab_type": "text"
      },
      "cell_type": "markdown",
      "source": [
        "# Guided activity\n",
        "---\n",
        "*This activity provides a general workflow of integrating a data API into a Python codebase. We will use the Python HTTP library [requests](http://docs.python-requests.org/en/master/) to access data from the [Star Wars API (SWAPI)](https://swapi.co/).*"
      ]
    },
    {
      "metadata": {
        "id": "L8RLvGv_n7OC",
        "colab_type": "text"
      },
      "cell_type": "markdown",
      "source": [
        "## 1. Set up and test the data API connection\n",
        "\n",
        "---\n",
        "\n",
        "To use the requests library it must first be **imported** into our code (note that the requests library is pre-installed in Colaboratory). To simplify the rest of our activities we will create a `baseUrl` variable that contains the root URL of all the requests we will make. We will test our connection to this URL to ensure we have a valid resource.\n",
        "\n",
        "**TODO: Run the code cell below to ensure that you get a status code of 200 for your call to the API**"
      ]
    },
    {
      "metadata": {
        "id": "xy4BKHQJEyCh",
        "colab_type": "code",
        "colab": {}
      },
      "cell_type": "code",
      "source": [
        "# Import the Python library 'requests'\n",
        "import requests\n",
        "\n",
        "# Set the base URL for the SWAPI, determined from the docs page. This is the\n",
        "# root resource.\n",
        "baseUrl = \"https://swapi.co/api/\"\n",
        "\n",
        "# Test a get request to the base URL (store in variable rTest)\n",
        "rTest = requests.get(baseUrl)\n",
        "rTest.status_code # Do you get 200?"
      ],
      "execution_count": 0,
      "outputs": []
    },
    {
      "metadata": {
        "id": "GQQ_JOXW5D-K",
        "colab_type": "text"
      },
      "cell_type": "markdown",
      "source": [
        "## 2. Examine a response from the API\n",
        "\n",
        "---\n",
        "\n",
        "We will explore the ways in which we can decode data provided by a get request and figure out the best way to work with the SWAPI data."
      ]
    },
    {
      "metadata": {
        "id": "T_4Pl3KjHFyb",
        "colab_type": "text"
      },
      "cell_type": "markdown",
      "source": [
        "### Decoding data returned by a request\n",
        "\n",
        "We can access the data returned by our get request in a couple of ways...\n",
        "\n",
        "**TODO: Run the code cell below to print out the different ways data returned from the API can be accessed**"
      ]
    },
    {
      "metadata": {
        "id": "gEp5vVpNBUGJ",
        "colab_type": "code",
        "colab": {}
      },
      "cell_type": "code",
      "source": [
        "# Raw data\n",
        "rTest.raw\n",
        "print(\"Output of rTest.raw: \" + str(rTest.raw) + \"\\n\")\n",
        "\n",
        "# As bytes\n",
        "rTest.content\n",
        "print(\"Output of rTest.content: \" + str(rTest.content) + \"\\n\")\n",
        "\n",
        "# As a string\n",
        "rTest.text\n",
        "print(\"Output of rTest.text: \" + rTest.text + \"\\n\")\n"
      ],
      "execution_count": 0,
      "outputs": []
    },
    {
      "metadata": {
        "id": "0dv6Q1oNDVwB",
        "colab_type": "text"
      },
      "cell_type": "markdown",
      "source": [
        "The above data types are not very helpful or easy to work with if we want to analyze the data contained in the SWAPI resource. \n",
        "\n",
        "### Check out the SWAPI data encoding\n",
        "Every response from the API includes HTTP headers that provide some information about the response. We can print out this information and check out the **content type** of our response.\n",
        "\n",
        "**TODO: Run the code cell below to figure out the content type of the response stored in `rTest`**"
      ]
    },
    {
      "metadata": {
        "colab_type": "code",
        "id": "PJCc3SswDMIV",
        "colab": {}
      },
      "cell_type": "code",
      "source": [
        "# Print out the request response headers\n",
        "rTest.headers # What is the content type?"
      ],
      "execution_count": 0,
      "outputs": []
    },
    {
      "metadata": {
        "id": "R0xvl2Vb99Js",
        "colab_type": "text"
      },
      "cell_type": "markdown",
      "source": [
        "### *Requests* JSON decoder\n",
        "\n",
        "The requests library has a built-in JSON decoder for request responses that consist of JSON data. This decoder will produce a [Python Dictionary](https://www.programiz.com/python-programming/dictionary) for easy integation into our code. A dictionary consists of **key/value pairs**—a structure very similar to JSON.\n",
        "\n",
        "**TODO: Run the code cell below to print out the `rTest` response data as a Python Dictionary**"
      ]
    },
    {
      "metadata": {
        "id": "lfyIORq02rYc",
        "colab_type": "code",
        "colab": {}
      },
      "cell_type": "code",
      "source": [
        "# Print out the response body as a Python Dictionary\n",
        "testJson = rTest.json()\n",
        "testJson"
      ],
      "execution_count": 0,
      "outputs": []
    },
    {
      "metadata": {
        "id": "8rYpdax-RD0u",
        "colab_type": "text"
      },
      "cell_type": "markdown",
      "source": [
        "**TODO: Use the code cell below to test some of the ways you can access and manipulate data in Dictionaries**"
      ]
    },
    {
      "metadata": {
        "id": "369ZJ5lpMLiq",
        "colab_type": "code",
        "colab": {}
      },
      "cell_type": "code",
      "source": [
        "# Test dictionary access by getting the value contained in the 'species' key of\n",
        "# testJson\n",
        "# testJson['species']\n",
        "\n",
        "# Print out the keys of testJson\n",
        "# testJson.keys()\n",
        "\n",
        "# Print out each key: value pair contained in testJson\n",
        "# for key, value in testJson.items():\n",
        "#   print(key + \": \" + value)"
      ],
      "execution_count": 0,
      "outputs": []
    },
    {
      "metadata": {
        "id": "kcXdEBeILVHj",
        "colab_type": "text"
      },
      "cell_type": "markdown",
      "source": [
        "## 3. Get specific data\n",
        "---\n",
        "We will explore how to access multiple resources and a single resource from the SWAPI."
      ]
    },
    {
      "metadata": {
        "id": "JC-DpiSPyW-O",
        "colab_type": "text"
      },
      "cell_type": "markdown",
      "source": [
        "### Accessing multiple resources of one type\n",
        "The SWAPI consists six resource types listed in the root resource (films, people, planets, species, starships, and vehicles). We can access a list containing all resources of one type by calling the location of those resources. For example:\n",
        "```\n",
        "https://swapi.co/api/[resource_name]\n",
        "```\n",
        "\n",
        "**TODO: Run the code cell below to get a list of the films contained in the SWAPI**"
      ]
    },
    {
      "metadata": {
        "id": "CK_oN7ztIAtR",
        "colab_type": "code",
        "colab": {}
      },
      "cell_type": "code",
      "source": [
        "# Get a list of the films from the API (located at https://swapi.co/api/films)\n",
        "films = requests.get(baseUrl + \"films\")"
      ],
      "execution_count": 0,
      "outputs": []
    },
    {
      "metadata": {
        "id": "rTdDKYDzqKRR",
        "colab_type": "text"
      },
      "cell_type": "markdown",
      "source": [
        "**TODO: Use the code cell below to print out a list of the data of all the film resources**"
      ]
    },
    {
      "metadata": {
        "id": "WiFqBVHJqAZj",
        "colab_type": "code",
        "colab": {}
      },
      "cell_type": "code",
      "source": [
        "# HINT: use the JSON decoder provided by the requests library. The data for\n",
        "# each film is located in a key titled 'results'"
      ],
      "execution_count": 0,
      "outputs": []
    },
    {
      "metadata": {
        "id": "S_AY14vM0GPc",
        "colab_type": "text"
      },
      "cell_type": "markdown",
      "source": [
        "### Accessing one resource of a specific type\n",
        "We can access a single resource of a specific type by calling the API at that specific resource's location. In the case of the SWAPI an individual resource is identified by calling a specific numerical id (`:id`) within the resource type (e.g., `.../[resource_name]/:id`). An id represents the location of that particular resource in the list of resources.\n",
        "\n",
        "**TODO: Run the code cell below to get the fourth resource from films**"
      ]
    },
    {
      "metadata": {
        "id": "m1YRu9aD0FY0",
        "colab_type": "code",
        "colab": {}
      },
      "cell_type": "code",
      "source": [
        "# Get the fourth resource contained in the films resource\n",
        "requests.get(baseUrl + \"films/4\").json()"
      ],
      "execution_count": 0,
      "outputs": []
    },
    {
      "metadata": {
        "id": "liazi7Gs54qU",
        "colab_type": "text"
      },
      "cell_type": "markdown",
      "source": [
        "**TODO: Use the cell below to access the 2nd resource contained in films and print out the title and release date of this film**"
      ]
    },
    {
      "metadata": {
        "id": "lpqZ-uAl57w6",
        "colab_type": "code",
        "colab": {}
      },
      "cell_type": "code",
      "source": [
        "# HINT: use the JSON decoder provided by the requests library. The data for\n",
        "# a film is located in a key titled 'results'"
      ],
      "execution_count": 0,
      "outputs": []
    },
    {
      "metadata": {
        "id": "Z_tZ5M3P0vpr",
        "colab_type": "text"
      },
      "cell_type": "markdown",
      "source": [
        "### Accessing resource metadata\n",
        "So far we have accessed resource data. What if you need to know what a particular key represents? For example, in the Films resource, what does data contained in 'opening_crawl' describe? We can access metadata about a specific resource by calling the 'schema' of a particular resource. The SWAPI provides a schema for each resource located at `.../[resource_name]/schema`\n",
        "\n",
        "**TODO: Run the code cell below to get the schema of the films resource**"
      ]
    },
    {
      "metadata": {
        "id": "0caimERaRvJj",
        "colab_type": "code",
        "colab": {}
      },
      "cell_type": "code",
      "source": [
        "# Get the films schema\n",
        "filmsSchema = requests.get(baseUrl + \"films/schema\").json()\n",
        "filmsSchema"
      ],
      "execution_count": 0,
      "outputs": []
    },
    {
      "metadata": {
        "id": "kBgeYCFCW6r0",
        "colab_type": "text"
      },
      "cell_type": "markdown",
      "source": [
        "**TODO: Use the code cell below to print out the title of the 1st episode of the film series**"
      ]
    },
    {
      "metadata": {
        "id": "CO15ftxnVM_h",
        "colab_type": "code",
        "colab": {}
      },
      "cell_type": "code",
      "source": [
        "# HINT: use the schema to determine what key provides the relevant data,\n",
        "# and use the data provided by the films resources to find the correct resource\n"
      ],
      "execution_count": 0,
      "outputs": []
    },
    {
      "metadata": {
        "id": "2DHYGh5xuh8d",
        "colab_type": "text"
      },
      "cell_type": "markdown",
      "source": [
        "*One way to do this:*\n",
        "```python\n",
        "for film in films.json()['results']:\n",
        "  if film['episode_id'] == 1:\n",
        "    print(film['title'])\n",
        "```"
      ]
    },
    {
      "metadata": {
        "id": "XvFzMsin8Xop",
        "colab_type": "text"
      },
      "cell_type": "markdown",
      "source": [
        "## 4. Pagination and parameters\n",
        "---\n",
        "An API request has the possibility to return a lot of data. In order to ensure that requested data is returned efficiently many APIs have a mechanism to limit the total amount of data returned per request. Often, large datasets from an API are returned in smaller chunks as 'pages,' where each page contains a limited number of resources that successively compose the entire dataset (e.g., page 1 contains resources 1-10, page 2 contains resources 11-20, etc.).\n",
        "\n",
        "The SWAPI paginates large requests–requiring a specific page parameter to be called in order to access pages beyond page 1. Conveniently, the requests library provides a way to easily provide parameters when making a request."
      ]
    },
    {
      "metadata": {
        "id": "F9Pu3o0-ABHR",
        "colab_type": "text"
      },
      "cell_type": "markdown",
      "source": [
        "### Observe paginated results with the 'planets' resource\n",
        "We can see how SWAPI requests are paginated by requesting a large list of resources."
      ]
    },
    {
      "metadata": {
        "id": "rpZqQIQeBxc-",
        "colab_type": "text"
      },
      "cell_type": "markdown",
      "source": [
        "**TODO: Use the code cell below to request the 'planets' resource and print out the decoded JSON data**"
      ]
    },
    {
      "metadata": {
        "id": "5MMgb6EOpBOz",
        "colab_type": "code",
        "colab": {}
      },
      "cell_type": "code",
      "source": [
        "# HINT: the planets resource is located at https://swapi.co/api/planets\n"
      ],
      "execution_count": 0,
      "outputs": []
    },
    {
      "metadata": {
        "id": "ep5LK-fzRtry",
        "colab_type": "text"
      },
      "cell_type": "markdown",
      "source": [
        "**TODO: Use the code cell below to print out 1) the total number of planets in the SWAPI and 2) the length of the results returned by the 'planets' request**"
      ]
    },
    {
      "metadata": {
        "id": "rrnXXHhItHLo",
        "colab_type": "code",
        "colab": {}
      },
      "cell_type": "code",
      "source": [
        "# HINT: the number of planets is stored in a key named 'count'. The actual\n",
        "# number of planet resources returned by the request can be determined by\n",
        "# finding the length of the results of the decoded request (use the Python \n",
        "# method len() to find the lingth of a list).\n",
        "print(len(planets['results']), planets['count'])"
      ],
      "execution_count": 0,
      "outputs": []
    },
    {
      "metadata": {
        "id": "PWhP6OjYW7sC",
        "colab_type": "text"
      },
      "cell_type": "markdown",
      "source": [
        "### Requesting a specific page with query parameters\n",
        "\n",
        "The SWAPI provides access to a specific numbered page of resource results using a URL query string. A query string consists of the URL resource being requested followed by a question mark and key/value pairs representing query structures. For example, a URL to request the 2nd page of the planets resource would be written:\n",
        "\n",
        "```\n",
        "https://swapi.co/api/planets?page=2\n",
        "```\n",
        "\n",
        "Where the key is represented by `page` and the value is `2`. Many APIs provide the ability to make a request with multiple query paramenters.\n",
        "\n",
        "**TODO: Use the code cell below to print out the decoded response of a request to the 3rd page of the planets resource**"
      ]
    },
    {
      "metadata": {
        "id": "Z13d-cmqA--n",
        "colab_type": "code",
        "colab": {}
      },
      "cell_type": "code",
      "source": [
        ""
      ],
      "execution_count": 0,
      "outputs": []
    },
    {
      "metadata": {
        "id": "MVGqQ5T2cv6R",
        "colab_type": "text"
      },
      "cell_type": "markdown",
      "source": [
        "The request library provides a more programmatic way to include query parameters in a URL request with the keyword argument `params`. You can include query parameters by providing a Dictionary containing key/vlaue pairs that represent the key/value pairs of your query.\n",
        "\n",
        "For example, the previous query for the 3rd page of the planets resource would be constructed:\n",
        "```\n",
        "requests.get(baseUrl + 'planets', params={\"page\": 3})\n",
        "```\n"
      ]
    },
    {
      "metadata": {
        "id": "gQbCkfvfmkt6",
        "colab_type": "text"
      },
      "cell_type": "markdown",
      "source": [
        "**TODO: Use the code cell below to make a request to the 7th page of the planets resource using the request library `params` keyword argument and print the decoded results**"
      ]
    },
    {
      "metadata": {
        "id": "DsiIgqGHnBYF",
        "colab_type": "code",
        "colab": {}
      },
      "cell_type": "code",
      "source": [
        ""
      ],
      "execution_count": 0,
      "outputs": []
    },
    {
      "metadata": {
        "id": "KHhw5zD9OVZD",
        "colab_type": "text"
      },
      "cell_type": "markdown",
      "source": [
        "### Accessing all data from a paginated resource\n",
        "\n",
        "To access all of the data from a paginated resource we have to make a call to each individual page. This could be done by writing a call to each page as individual lines of code:\n",
        "\n",
        "```\n",
        "requests.get(baseUrl + 'planets', params={\"page\": 1})\n",
        "requests.get(baseUrl + 'planets', params={\"page\": 2})\n",
        "...\n",
        "requests.get(baseUrl + 'planets', params={\"page\": 7})\n",
        "```\n",
        "\n",
        "This code is not concise and this structure would not be feasible if the dataset is extremely large. Instead, we can use information returned from a page request to determine if another page is available and, if available, request the next page. Repeatedly perfroming this action would provide data for all pages including the intially requested page.\n",
        "\n",
        "The SWAPI provides a key value of `next` for each page request that contains the URL of the location of the next successive page of data for this resource, if there is a next page (*look at the `next` key value printed in the two previous cells to see what the value is when another page is available and when it is not*). Using the value stored in `next` we can write a loop to succesively request a page while another page is available. For the planets resource, this could be set up as shown below.\n",
        "\n",
        "This code will store all the planet data in a variable named **`allPlanets`**."
      ]
    },
    {
      "metadata": {
        "id": "hN4q7v6ac0_e",
        "colab_type": "code",
        "colab": {}
      },
      "cell_type": "code",
      "source": [
        "# Set the initial page number to request\n",
        "pageNum = 1\n",
        "\n",
        "# Create an initial request to the set page of the planets resource\n",
        "initialRequest = requests.get(baseUrl + 'planets',\n",
        "                              params={'page': pageNum}).json()\n",
        "\n",
        "# Store the list of results\n",
        "allPlanets = initialRequest['results']\n",
        "\n",
        "# Get value the contained in next\n",
        "nextPage = initialRequest['next']\n",
        "\n",
        "# Create a loop that runs while nextPage does not equal None\n",
        "while (nextPage != None):\n",
        "  # Increment the pageNum value by one\n",
        "  pageNum += 1\n",
        "  \n",
        "  # Make a new request with the updated page number\n",
        "  planets = requests.get(baseUrl + 'planets', params={'page': pageNum}).json()\n",
        "  \n",
        "  # Add the list of results from this request to the existing list\n",
        "  allPlanets.extend(planets['results'])\n",
        "  \n",
        "  # Get value the contained in next\n",
        "  nextPage = planets['next']\n",
        "\n",
        "# Check that we have the correct number of planets in allPlanets\n",
        "print(\"Length of allPlanets: \" + str(len(allPlanets)))\n",
        "allPlanets"
      ],
      "execution_count": 0,
      "outputs": []
    },
    {
      "metadata": {
        "id": "wuesmXlzyVDU",
        "colab_type": "text"
      },
      "cell_type": "markdown",
      "source": [
        "This code can be generalized to create a function that we can use to request all the resources of one type:"
      ]
    },
    {
      "metadata": {
        "id": "s8xKF5ueLUWM",
        "colab_type": "code",
        "colab": {}
      },
      "cell_type": "code",
      "source": [
        "def getAllResources(resourceName):\n",
        "  '''\n",
        "    Return all resources of the type 'resourceName' from the SWAPI\n",
        "    Valid values are: films, people, planets, species, starships, vehicles\n",
        "  '''\n",
        "  allResources = []\n",
        "  nextPage = '1'\n",
        "  pageNum = 1\n",
        "  while (nextPage != None):\n",
        "    resourcePage = requests.get(baseUrl + resourceName, params={'page': pageNum}).json()\n",
        "    allResources.extend(resourcePage.get('results'))\n",
        "    pageNum += 1\n",
        "    nextPage = resourcePage.get('next')\n",
        "  return allResources"
      ],
      "execution_count": 0,
      "outputs": []
    },
    {
      "metadata": {
        "id": "rHyVgVYDsWF-",
        "colab_type": "text"
      },
      "cell_type": "markdown",
      "source": [
        "**TODO: Use the cell below to test the function `getAllResources` to fetch all the data from the `people` resource.**"
      ]
    },
    {
      "metadata": {
        "id": "9N7092MfLoNH",
        "colab_type": "code",
        "colab": {}
      },
      "cell_type": "code",
      "source": [
        ""
      ],
      "execution_count": 0,
      "outputs": []
    },
    {
      "metadata": {
        "id": "uNWXraL780Tc",
        "colab_type": "text"
      },
      "cell_type": "markdown",
      "source": [
        "## 5. The search parameter\n",
        "\n",
        "Another common feature of data APIs is the ability to search resources using query parameters. The SWAPI provides limited search capabilities on certain fields for each resource. For example, you can search the `person` resource using the `name` field. Similar to page requests, a search can be implemented using a query string with the key name `search` and a search string value. For example, to search for the name Luke:\n",
        "\n",
        "\n",
        "```\n",
        "https://swapi.co/api/people/?search=luke\n",
        "```\n",
        "\n",
        "According to the SWAPI documentation, searches are case-insensitive partial matches.\n",
        "\n",
        "**TODO: Use the cell below to search people for the name 'Fett' using the request library `params` keyword argument and print the decoded results**"
      ]
    },
    {
      "metadata": {
        "id": "y9H6l-5a-ydu",
        "colab_type": "code",
        "colab": {}
      },
      "cell_type": "code",
      "source": [
        ""
      ],
      "execution_count": 0,
      "outputs": []
    },
    {
      "metadata": {
        "id": "te2ZYays5o8I",
        "colab_type": "text"
      },
      "cell_type": "markdown",
      "source": [
        "## 6. Using SWAPI data in Python\n",
        "\n",
        "We will briefly cover formatting, analyzing, and graphing data from an API. Often the data obtained 'as is' from an API will need further processing in order to conduct analyses. The SWAPI data we are working with provides a good test example of common transformations that might need to be performed on similar data obtained from an API."
      ]
    },
    {
      "metadata": {
        "id": "0z8WIvp8Gmn0",
        "colab_type": "text"
      },
      "cell_type": "markdown",
      "source": [
        "### Import specialized Python libraries for working with data\n",
        "We will import two popular libraries for working with and graphing data in Python:\n",
        "\n",
        "* **Pandas** - a data analysis library ([Pandas user guide](http://pandas.pydata.org/pandas-docs/stable/user_guide/index.html))\n",
        "* **Matplotlib** - a Python 2D plotting library ([Matplotlib user guide](https://matplotlib.org/users/index.html))"
      ]
    },
    {
      "metadata": {
        "id": "XEGQZXbsouhJ",
        "colab_type": "code",
        "colab": {}
      },
      "cell_type": "code",
      "source": [
        "import pandas as pd\n",
        "import matplotlib.pyplot as plt"
      ],
      "execution_count": 0,
      "outputs": []
    },
    {
      "metadata": {
        "id": "aJ9_uHrMaSkI",
        "colab_type": "text"
      },
      "cell_type": "markdown",
      "source": [
        "### Creating a Pandas DataFrame\n",
        "Pandas provides the DataFrame data structure as a way to more easily work with two-dimensional tabular data (rows and columns). We can quickly convert a list of dictionaries to a DataFrame by calling the Pandas DataFrame function:\n",
        "```\n",
        "df = pd.DataFrame([list_name])\n",
        "```\n",
        "\n",
        "**TODO: Use the cell below to create a DataFrame of the `allPlanets` list of planet resources. Store this in a variable named `planets_df` and print the results**"
      ]
    },
    {
      "metadata": {
        "id": "iZZjwQM5IEC-",
        "colab_type": "code",
        "colab": {}
      },
      "cell_type": "code",
      "source": [
        ""
      ],
      "execution_count": 0,
      "outputs": []
    },
    {
      "metadata": {
        "id": "Ok-iqmBejdVd",
        "colab_type": "text"
      },
      "cell_type": "markdown",
      "source": [
        "### Reformatting data for graphing\n",
        "With a DataFrame we have access to functions to modify our dataset. We will remove unnecessary data fields (coulmns), edit existing fields, and create new data fields from existing fields."
      ]
    },
    {
      "metadata": {
        "id": "IZ1XkqKmlVBQ",
        "colab_type": "text"
      },
      "cell_type": "markdown",
      "source": [
        "#### Creating a new field\n",
        "A new field can be added to an existing DataFrame. We will create a new field called `film_count` in `planets_df` that contains the number of films in which each planet appears. This value can be computed from the existing `films` field using the `apply` function. We will use the following line of code to create a new field and compute the values:\n",
        "```python\n",
        "planets_df[\"film_count\"] = planets_df.films.apply(lambda x: len(x))\n",
        "```\n",
        "We first declare a new field in planets_df (`planets_df[\"film_count\"]`) to store the results of our computation. We then take the field films in planets_df (`planets_df.films`) and apply a function to each value in this field to compute the length of each list of films a planet is featured in (`.apply(lambda x: len(x))`).\n",
        "\n",
        "**TODO: Use the code cell below to create the new `film_count` field containing the count of the number of films in which a planet has been featured and print out the results**"
      ]
    },
    {
      "metadata": {
        "id": "U3CKSTYlovbF",
        "colab_type": "code",
        "colab": {}
      },
      "cell_type": "code",
      "source": [
        ""
      ],
      "execution_count": 0,
      "outputs": []
    },
    {
      "metadata": {
        "id": "BlvhQpkgov2o",
        "colab_type": "text"
      },
      "cell_type": "markdown",
      "source": [
        "#### Removing unecesary fields and rearrange data\n",
        "We are not interested in all the data in our dataset. We can remove unnecessary fields using the DataFrame function `drop` and indicating which column names to remove. The drop function returns the existing DataFrame with the indicated columns removed. This is completed as follows:\n",
        "```python\n",
        "planets_drop = planets_df.drop(columns=[\"name\", \"climate\", \"created\", \"films\",\n",
        "                                        \"edited\", \"gravity\", \"residents\",\n",
        "                                        \"terrain\", \"url\"])\n",
        "```\n",
        "We first declare a new DataFrame `planets_drop`. We then call the drop method on planets_df and indicate the columns to drop using the keyword `columns` and set a list of column names we want to remove from the original `planets_df` DataFrame.\n",
        "\n",
        "We will also rearrange our data set so that `name` is the first field of our DataFrame. The new `planets_drop` DataFrame does not have a 'name' field. We can use the 'name' field from `planets_df` and insert it into the first position of `planets_drop`:\n",
        "```python\n",
        "planets_drop.insert(0, \"name\", planets_df.name)\n",
        "```\n",
        "Here we use the `insert` method on `planets_drop` to first indicate a position at which to insert the field (0), the name of the new field (\"name\"), and the data (`planets_df.name`).\n",
        "\n",
        "**TODO: Use the code cell below to create a new DataFrame `planets_drop` containing only the fields 'name',\t'diameter',\t'orbital_period',\t'population',\t'rotation_period',\t'surface_water', and\t'film_count'.  Add the 'name' field from the original DataFrame `planets_df` to the front of `planets_drop`. Print the results.**"
      ]
    },
    {
      "metadata": {
        "id": "9li5BzeFqAKX",
        "colab_type": "code",
        "colab": {}
      },
      "cell_type": "code",
      "source": [
        "# A List of the columns to be dropped\n",
        "dropColumns = [\"name\", \"climate\", \"created\", \"films\", \"edited\", \"gravity\",\n",
        "               \"residents\", \"terrain\", \"url\"]\n"
      ],
      "execution_count": 0,
      "outputs": []
    },
    {
      "metadata": {
        "id": "UXkVlqjNlQp0",
        "colab_type": "text"
      },
      "cell_type": "markdown",
      "source": [
        "#### Converting to the correct data type\n",
        "If we look closely at the data returned by the SWAPI it might not be in the expected form. For example, we would expect the field `diameter` in the planets rsource to contain numerical values. However, if we look at the data type of an individual value we see this data is actually a string:"
      ]
    },
    {
      "metadata": {
        "id": "fnsBo4u8S0lG",
        "colab_type": "code",
        "colab": {}
      },
      "cell_type": "code",
      "source": [
        "# Print the data type of the first diameter value in planets_drop\n",
        "type(planets_drop.diameter[0])"
      ],
      "execution_count": 0,
      "outputs": []
    },
    {
      "metadata": {
        "id": "f-1G_jGBco6E",
        "colab_type": "text"
      },
      "cell_type": "markdown",
      "source": [
        "In order to properly work with our data we need to convert the numbers that are currently encoded as strings to a numeric type. We will use the apply function again to replace the string data contained in columns 1-6 with numeric data. This is completed as follows:\n",
        "```python\n",
        "planets_drop.iloc[:,1:] = planets_drop.iloc[:,1:].apply(\n",
        "    lambda x: pd.to_numeric(x, errors=\"coerce\"))\n",
        "```\n",
        "In this block of code we first call all the rows in columns 1-6 in `planets_drop` using the function `iloc` (`planets_drop.iloc[:,1:]`), we will be replacing the current data contained in these fields with the output of our function. Next we call the same data (`planets_drop.iloc[:,1:]`) and apply a function to each column of data. We use the Pandas method `to_numeric` to convert a column of data to a numeric form (`lambda x: pd.to_numeric(x, errors=\"coerce\")`). In this case we set the `errors` keyword to \"coerce\" to set any values that cannot be converted to a number to the special value `NaN` (several of our columns contain the value 'unknown', this cannot be converted to a number).\n",
        "\n",
        "**TODO: Use the code cell below to update `planets_drop` by converting the values in columns 1-6 to numeric data type. Print the results**"
      ]
    },
    {
      "metadata": {
        "id": "eM9z6A5eXcas",
        "colab_type": "code",
        "colab": {}
      },
      "cell_type": "code",
      "source": [
        ""
      ],
      "execution_count": 0,
      "outputs": []
    },
    {
      "metadata": {
        "id": "2E9L66cXlfue",
        "colab_type": "text"
      },
      "cell_type": "markdown",
      "source": [
        "#### Making graphs\n",
        "With the new formatted data we can begin to check out some of the general features of the data set. We will use Matplotlib functions to create a bar graph to observe the film count of all the planets and determine if there is a relationship between a planet's orbital period and its rotation period."
      ]
    },
    {
      "metadata": {
        "id": "9tRDLkuZ2X0Y",
        "colab_type": "code",
        "colab": {}
      },
      "cell_type": "code",
      "source": [
        "# Set the figure size of the plot\n",
        "plt.figure(figsize=([15,18]))\n",
        "\n",
        "# create a horizontal bar graph of planet name and planet film_count.\n",
        "\n",
        "# Uncomment the line below to print the plot\n",
        "# plt.barh(planets_drop.name, planets_drop.film_count)"
      ],
      "execution_count": 0,
      "outputs": []
    },
    {
      "metadata": {
        "id": "NCd-JPw37DBh",
        "colab_type": "code",
        "colab": {}
      },
      "cell_type": "code",
      "source": [
        "# Create a scatter plot of orbital period against rotation period. Is there any\n",
        "# identifiable relationship?\n",
        "\n",
        "# Uncomment the line below to print the plot\n",
        "# plt.scatter(planets_drop.orbital_period, planets_drop.rotation_period)"
      ],
      "execution_count": 0,
      "outputs": []
    }
  ]
}