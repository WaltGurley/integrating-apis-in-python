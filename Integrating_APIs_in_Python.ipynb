{
  "nbformat": 4,
  "nbformat_minor": 0,
  "metadata": {
    "colab": {
      "name": "Integrating APIs in Python.ipynb",
      "version": "0.3.2",
      "provenance": [],
      "collapsed_sections": [],
      "toc_visible": true,
      "include_colab_link": true
    },
    "kernelspec": {
      "name": "python3",
      "display_name": "Python 3"
    }
  },
  "cells": [
    {
      "cell_type": "markdown",
      "metadata": {
        "id": "view-in-github",
        "colab_type": "text"
      },
      "source": [
        "<a href=\"https://colab.research.google.com/github/WaltGurley/integrating-apis-in-python/blob/master/Integrating_APIs_in_Python.ipynb\" target=\"_parent\"><img src=\"https://colab.research.google.com/assets/colab-badge.svg\" alt=\"Open In Colab\"/></a>"
      ]
    },
    {
      "metadata": {
        "id": "0CurJTzfFARN",
        "colab_type": "text"
      },
      "cell_type": "markdown",
      "source": [
        "# Integrating APIs in Python\n",
        "\n",
        "This workshop provides an introduction to interacting with data APIs using the Python programming language. We will cover connecting to a dataset using an API, querying data using a defined protocol, converting and formatting data for use in Python, and basic data analysis and visualization."
      ]
    },
    {
      "metadata": {
        "id": "fnMpYKr_9NmV",
        "colab_type": "text"
      },
      "cell_type": "markdown",
      "source": [
        "# Introduction: A brief overview of web data APIs and JSON\n",
        "---"
      ]
    },
    {
      "metadata": {
        "id": "9zdrbOObs41t",
        "colab_type": "text"
      },
      "cell_type": "markdown",
      "source": [
        "## Web Data APIs\n",
        "\n",
        ">When used in the context of web development, an API is typically a defined set of specifications, such as Hypertext Transfer Protocol (HTTP) request messages, along with a definition of the structure of response messages, which is usually in an Extensible Markup Language (XML) or JavaScript Object Notation (JSON) format.\n",
        "\n",
        "[Wikipedia](https://en.wikipedia.org/wiki/Application_programming_interface#Web_APIs)\n",
        "\n",
        "![alt text](http://media2.govtech.com/images/940*603/api_infographic_smartfile_crop.jpg)\n",
        "\n",
        "Retrieved from [What's an API and Why Do You Need One?](http://www.govtech.com/applications/Whats-an-API-and-Why-Do-You-Need-One.html)\n"
      ]
    },
    {
      "metadata": {
        "id": "8Hq3WZgFtql7",
        "colab_type": "text"
      },
      "cell_type": "markdown",
      "source": [
        "## Examples of Web APIs\n",
        "\n",
        "- [Twitter APIs](https://developer.twitter.com/en/docs.html)\n",
        "- [Data.gov APIs](https://api.data.gov/)\n",
        "- [The Star Wars API (SWAPI)](https://swapi.co/)\n",
        "- [Google Dataset Search](https://toolbox.google.com/datasetsearch/search?query=format%3Aapi)"
      ]
    },
    {
      "metadata": {
        "id": "PLzMDo5jpgG3",
        "colab_type": "text"
      },
      "cell_type": "markdown",
      "source": [
        "## JSON Data Types\n",
        "\n",
        "- Strings: `\"name\":\"Jacob\"`\n",
        "- Numbers: `\"age\":30`\n",
        "- Objects: `\"employee\": { \"name\":\"Jacob\", \"age\":30}`\n",
        "- Arrays: `\"employees\": [\"Jacob\", \"Walt\"]`\n",
        "- Booleans: `\"librarian\":true`\n",
        "\n",
        "[More on JSON Data Types](https://www.w3schools.com/js/js_json_datatypes.asp)"
      ]
    },
    {
      "metadata": {
        "id": "lRdw1Y9sqlDP",
        "colab_type": "text"
      },
      "cell_type": "markdown",
      "source": [
        "## Complex JSON Example\n",
        "\n",
        "```json\n",
        "{\n",
        "  \"paintings\": [\n",
        "    {\n",
        "      \"name\": \"The Scream\",\n",
        "      \"url\": \"https://en.wikipedia.org/wiki/The_Scream\",\n",
        "      \"creator\": {\n",
        "        \"@type\": \"Person\",\n",
        "        \"name\": \"Edvard Munch\",\n",
        "        \"sameAs\": \"https://en.wikipedia.org/wiki/Edvard_Munch\"\n",
        "      }\n",
        "    },\n",
        "    {\n",
        "      \"name\": \"Melancholy\",\n",
        "      \"url\": \"https://en.wikipedia.org/wiki/Melancholy_(Edvard_Munch)\",\n",
        "      \"creator\": {\n",
        "        \"@type\": \"Person\",\n",
        "        \"name\": \"Edvard Munch\",\n",
        "        \"sameAs\": \"https://en.wikipedia.org/wiki/Edvard_Munch\"\n",
        "      }\n",
        "    }\n",
        "  ]\n",
        "}\n",
        "```"
      ]
    },
    {
      "metadata": {
        "id": "TTAccGYL9fZj",
        "colab_type": "text"
      },
      "cell_type": "markdown",
      "source": [
        "# Guided activity\n",
        "---\n",
        "*This activity provides a general workflow of integrating a data API into a Python codebase. We will use the Python HTTP library [requests](http://docs.python-requests.org/en/master/) to access data from the [Star Wars API (SWAPI)](https://swapi.co/).*"
      ]
    },
    {
      "metadata": {
        "id": "L8RLvGv_n7OC",
        "colab_type": "text"
      },
      "cell_type": "markdown",
      "source": [
        "## 1. Set up and test the data API connection\n",
        "\n",
        "---\n",
        "\n",
        "To use the requests library it must first be **imported** into our code (note that the requests library is pre-installed in Colaboratory). To simplify the rest of our activities we will create a `baseUrl` variable that contains the root URL of all the requests we will make. We will test our connection to this URL to ensure we have a valid resource."
      ]
    },
    {
      "metadata": {
        "id": "xy4BKHQJEyCh",
        "colab_type": "code",
        "outputId": "4b6a9fb8-2e4e-474b-aa7a-df1fced1ce69",
        "colab": {
          "base_uri": "https://localhost:8080/",
          "height": 35
        }
      },
      "cell_type": "code",
      "source": [
        "# Import the Python library 'requests'\n",
        "import requests\n",
        "\n",
        "# Set the base URL for the SWAPI, determined from the docs page. This is the\n",
        "# root resource.\n",
        "baseUrl = \"https://swapi.co/api/\"\n",
        "\n",
        "# Test a get request to the base URL (store in variable rTest)\n",
        "rTest = requests.get(baseUrl)\n",
        "rTest.status_code # Do you get 200?"
      ],
      "execution_count": 1,
      "outputs": [
        {
          "output_type": "execute_result",
          "data": {
            "text/plain": [
              "200"
            ]
          },
          "metadata": {
            "tags": []
          },
          "execution_count": 1
        }
      ]
    },
    {
      "metadata": {
        "id": "GQQ_JOXW5D-K",
        "colab_type": "text"
      },
      "cell_type": "markdown",
      "source": [
        "## 2. Examine a response from the API\n",
        "\n",
        "---\n",
        "\n",
        "We will explore the ways in which we can decode data provided by a get request and figure out the best way to work with the SWAPI data."
      ]
    },
    {
      "metadata": {
        "id": "T_4Pl3KjHFyb",
        "colab_type": "text"
      },
      "cell_type": "markdown",
      "source": [
        "### Decoding data returned by a request\n",
        "\n",
        "We can access the data returned by our get request in a couple of ways..."
      ]
    },
    {
      "metadata": {
        "id": "gEp5vVpNBUGJ",
        "colab_type": "code",
        "outputId": "bc085597-92af-4af2-cb86-00e68cf7bae4",
        "colab": {
          "base_uri": "https://localhost:8080/",
          "height": 145
        }
      },
      "cell_type": "code",
      "source": [
        "# Raw data\n",
        "rTest.raw\n",
        "print(\"Output of rTest.raw: \" + str(rTest.raw) + \"\\n\")\n",
        "\n",
        "# As bytes\n",
        "rTest.content\n",
        "print(\"Output of rTest.content: \" + str(rTest.content) + \"\\n\")\n",
        "\n",
        "# As a string\n",
        "rTest.text\n",
        "print(\"Output of rTest.text: \" + rTest.text + \"\\n\")\n"
      ],
      "execution_count": 2,
      "outputs": [
        {
          "output_type": "stream",
          "text": [
            "Output of rTest.raw: <urllib3.response.HTTPResponse object at 0x7f66e56b9630>\n",
            "\n",
            "Output of rTest.content: b'{\"people\":\"https://swapi.co/api/people/\",\"planets\":\"https://swapi.co/api/planets/\",\"films\":\"https://swapi.co/api/films/\",\"species\":\"https://swapi.co/api/species/\",\"vehicles\":\"https://swapi.co/api/vehicles/\",\"starships\":\"https://swapi.co/api/starships/\"}'\n",
            "\n",
            "Output of rTest.text: {\"people\":\"https://swapi.co/api/people/\",\"planets\":\"https://swapi.co/api/planets/\",\"films\":\"https://swapi.co/api/films/\",\"species\":\"https://swapi.co/api/species/\",\"vehicles\":\"https://swapi.co/api/vehicles/\",\"starships\":\"https://swapi.co/api/starships/\"}\n",
            "\n"
          ],
          "name": "stdout"
        }
      ]
    },
    {
      "metadata": {
        "id": "0dv6Q1oNDVwB",
        "colab_type": "text"
      },
      "cell_type": "markdown",
      "source": [
        "The above data types are not very helpful or easy to work with if we want to analyze the data contained in the SWAPI resource. \n",
        "\n",
        "### Check out the SWAPI data encoding\n",
        "Every response from the API includes HTTP headers that provide some information about the response. We can print out this information and check out the **content type** of our response."
      ]
    },
    {
      "metadata": {
        "colab_type": "code",
        "id": "PJCc3SswDMIV",
        "outputId": "fbf09c79-54f9-4b7a-b332-bb71e1abfdba",
        "colab": {
          "base_uri": "https://localhost:8080/",
          "height": 55
        }
      },
      "cell_type": "code",
      "source": [
        "# Print out the request response headers\n",
        "rTest.headers # What is the content type?"
      ],
      "execution_count": 3,
      "outputs": [
        {
          "output_type": "execute_result",
          "data": {
            "text/plain": [
              "{'Date': 'Wed, 13 Feb 2019 14:39:22 GMT', 'Content-Type': 'application/json', 'Transfer-Encoding': 'chunked', 'Connection': 'keep-alive', 'Set-Cookie': '__cfduid=de28c294a8fe34b9adbe44be108b49c871550068762; expires=Thu, 13-Feb-20 14:39:22 GMT; path=/; domain=.swapi.co; HttpOnly; Secure', 'Vary': 'Accept, Cookie', 'X-Frame-Options': 'SAMEORIGIN', 'Etag': 'W/\"c1df070b0509ebefe72e85d721f40bf0\"', 'Allow': 'GET, HEAD, OPTIONS', 'Via': '1.1 vegur', 'Expect-CT': 'max-age=604800, report-uri=\"https://report-uri.cloudflare.com/cdn-cgi/beacon/expect-ct\"', 'Server': 'cloudflare', 'CF-RAY': '4a880b45cef879ed-SEA', 'Content-Encoding': 'gzip'}"
            ]
          },
          "metadata": {
            "tags": []
          },
          "execution_count": 3
        }
      ]
    },
    {
      "metadata": {
        "id": "R0xvl2Vb99Js",
        "colab_type": "text"
      },
      "cell_type": "markdown",
      "source": [
        "### *Requests* JSON decoder\n",
        "\n",
        "The requests library has a built-in JSON decoder for request responses that consist of JSON data. This decoder will produce a [Python Dictionary](https://www.programiz.com/python-programming/dictionary) for easy integation into our code. A dictionary consists of **key/value pairs**—a structure very similar to JSON."
      ]
    },
    {
      "metadata": {
        "id": "lfyIORq02rYc",
        "colab_type": "code",
        "outputId": "639a0435-ed90-42b4-ce5a-b1ca3debfc1c",
        "colab": {
          "base_uri": "https://localhost:8080/",
          "height": 125
        }
      },
      "cell_type": "code",
      "source": [
        "# Print out the response body as a Python Dictionary\n",
        "testJson = rTest.json()\n",
        "testJson"
      ],
      "execution_count": 4,
      "outputs": [
        {
          "output_type": "execute_result",
          "data": {
            "text/plain": [
              "{'films': 'https://swapi.co/api/films/',\n",
              " 'people': 'https://swapi.co/api/people/',\n",
              " 'planets': 'https://swapi.co/api/planets/',\n",
              " 'species': 'https://swapi.co/api/species/',\n",
              " 'starships': 'https://swapi.co/api/starships/',\n",
              " 'vehicles': 'https://swapi.co/api/vehicles/'}"
            ]
          },
          "metadata": {
            "tags": []
          },
          "execution_count": 4
        }
      ]
    },
    {
      "metadata": {
        "id": "8rYpdax-RD0u",
        "colab_type": "text"
      },
      "cell_type": "markdown",
      "source": [
        "**TODO: Use the code cell below to test some of the ways you can access and manipulate data in Dictionaries**"
      ]
    },
    {
      "metadata": {
        "id": "369ZJ5lpMLiq",
        "colab_type": "code",
        "colab": {}
      },
      "cell_type": "code",
      "source": [
        "# Test dictionary access by getting the value contained in the 'species' key of\n",
        "# testJson\n",
        "# testJson['species']\n",
        "\n",
        "# Print out the keys of testJson\n",
        "# testJson.keys()\n",
        "\n",
        "# Print out each key: value pair contained in testJson\n",
        "# for key, value in testJson.items():\n",
        "#   print(key + \": \" + value)"
      ],
      "execution_count": 0,
      "outputs": []
    },
    {
      "metadata": {
        "id": "kcXdEBeILVHj",
        "colab_type": "text"
      },
      "cell_type": "markdown",
      "source": [
        "## 3. Get specific data\n",
        "---\n",
        "We will explore how to access multiple resources and a single resource from the SWAPI."
      ]
    },
    {
      "metadata": {
        "id": "JC-DpiSPyW-O",
        "colab_type": "text"
      },
      "cell_type": "markdown",
      "source": [
        "### Accessing multiple resources of one type\n",
        "The SWAPI consists six resource types listed in the root resource (films, people, planets, species, starships, and vehicles). We can access a list containing all resources of one type by calling the location of those resources. For example:\n",
        "```\n",
        "https://swapi.co/api/[resource_name]\n",
        "```"
      ]
    },
    {
      "metadata": {
        "id": "CK_oN7ztIAtR",
        "colab_type": "code",
        "colab": {}
      },
      "cell_type": "code",
      "source": [
        "# Get a list of the films from the API (located at https://swapi.co/api/films)\n",
        "films = requests.get(baseUrl + \"films\")"
      ],
      "execution_count": 0,
      "outputs": []
    },
    {
      "metadata": {
        "id": "rTdDKYDzqKRR",
        "colab_type": "text"
      },
      "cell_type": "markdown",
      "source": [
        "**TODO: Use the code cell below to print out a list of the data of all the film resources**"
      ]
    },
    {
      "metadata": {
        "id": "WiFqBVHJqAZj",
        "colab_type": "code",
        "colab": {}
      },
      "cell_type": "code",
      "source": [
        "# HINT: use the JSON decoder provided by the requests library. The data for\n",
        "# each film is located in a key titled 'results'"
      ],
      "execution_count": 0,
      "outputs": []
    },
    {
      "metadata": {
        "id": "S_AY14vM0GPc",
        "colab_type": "text"
      },
      "cell_type": "markdown",
      "source": [
        "### Accessing one resource of a specific type\n",
        "We can access a single resource of a specific type by calling the API at that specific resource's location. In the case of the SWAPI an individual resource is identified by calling a specific numerical id (`:id`) within the resource type (e.g., `.../[resource_name]/:id`). An id represents the location of that particular resource in the list of resources.\n",
        "\n"
      ]
    },
    {
      "metadata": {
        "id": "m1YRu9aD0FY0",
        "colab_type": "code",
        "colab": {}
      },
      "cell_type": "code",
      "source": [
        "# Get the fourth resource contained in the films resource\n"
      ],
      "execution_count": 0,
      "outputs": []
    },
    {
      "metadata": {
        "id": "liazi7Gs54qU",
        "colab_type": "text"
      },
      "cell_type": "markdown",
      "source": [
        "**TODO: Use the cell below to access the 2nd resource contained in films and print out the title and release date of this film**"
      ]
    },
    {
      "metadata": {
        "id": "lpqZ-uAl57w6",
        "colab_type": "code",
        "colab": {}
      },
      "cell_type": "code",
      "source": [
        "# HINT: use the JSON decoder provided by the requests library. The data for\n",
        "# a film is located in a key titled 'results'"
      ],
      "execution_count": 0,
      "outputs": []
    },
    {
      "metadata": {
        "id": "Z_tZ5M3P0vpr",
        "colab_type": "text"
      },
      "cell_type": "markdown",
      "source": [
        "### Accessing resource metadata\n",
        "So far we have accessed resource data. What if you need to know what a particular key represents? For example, in the Films resource, what does data contained in 'opening_crawl' describe? We can access metadata about a specific resource by calling the 'schema' of a particular resource. The SWAPI provides a schema for each resource located at `.../[resource_name]/schema`"
      ]
    },
    {
      "metadata": {
        "id": "0caimERaRvJj",
        "colab_type": "code",
        "outputId": "a78db788-6d3c-42ed-e057-2c95d7c698fc",
        "colab": {
          "base_uri": "https://localhost:8080/",
          "height": 881
        }
      },
      "cell_type": "code",
      "source": [
        "# Get the films schema\n",
        "filmsSchema = requests.get(baseUrl + \"films/schema\").json()\n",
        "filmsSchema"
      ],
      "execution_count": 10,
      "outputs": [
        {
          "output_type": "execute_result",
          "data": {
            "text/plain": [
              "{'$schema': 'http://json-schema.org/draft-04/schema',\n",
              " 'description': 'A Star Wars film',\n",
              " 'properties': {'characters': {'description': 'The people resources featured within this film.',\n",
              "   'type': 'array'},\n",
              "  'created': {'description': 'The ISO 8601 date format of the time that this resource was created.',\n",
              "   'format': 'date-time',\n",
              "   'type': 'string'},\n",
              "  'director': {'description': 'The director of this film.', 'type': 'string'},\n",
              "  'edited': {'description': 'the ISO 8601 date format of the time that this resource was edited.',\n",
              "   'format': 'date-time',\n",
              "   'type': 'string'},\n",
              "  'episode_id': {'description': 'The episode number of this film.',\n",
              "   'type': 'integer'},\n",
              "  'opening_crawl': {'description': 'The opening crawl text at the beginning of this film.',\n",
              "   'type': 'string'},\n",
              "  'planets': {'description': 'The planet resources featured within this film.',\n",
              "   'type': 'array'},\n",
              "  'producer': {'description': 'The producer(s) of this film.',\n",
              "   'type': 'string'},\n",
              "  'release_date': {'description': 'The release date at original creator country.',\n",
              "   'format': 'date',\n",
              "   'type': 'string'},\n",
              "  'species': {'description': 'The species resources featured within this film.',\n",
              "   'type': 'array'},\n",
              "  'starships': {'description': 'The starship resources featured within this film.',\n",
              "   'type': 'array'},\n",
              "  'title': {'description': 'The title of this film.', 'type': 'string'},\n",
              "  'url': {'description': 'The url of this resource',\n",
              "   'format': 'uri',\n",
              "   'type': 'string'},\n",
              "  'vehicles': {'description': 'The vehicle resources featured within this film.',\n",
              "   'type': 'array'}},\n",
              " 'required': ['title',\n",
              "  'episode_id',\n",
              "  'opening_crawl',\n",
              "  'director',\n",
              "  'producer',\n",
              "  'release_date',\n",
              "  'characters',\n",
              "  'planets',\n",
              "  'starships',\n",
              "  'vehicles',\n",
              "  'species',\n",
              "  'url',\n",
              "  'created',\n",
              "  'edited'],\n",
              " 'title': 'Film',\n",
              " 'type': 'object'}"
            ]
          },
          "metadata": {
            "tags": []
          },
          "execution_count": 10
        }
      ]
    },
    {
      "metadata": {
        "id": "kBgeYCFCW6r0",
        "colab_type": "text"
      },
      "cell_type": "markdown",
      "source": [
        "**TODO: Use the code cell below to print out the title of the 1st episode of the film series**"
      ]
    },
    {
      "metadata": {
        "id": "CO15ftxnVM_h",
        "colab_type": "code",
        "colab": {}
      },
      "cell_type": "code",
      "source": [
        "# HINT: use the schema to determine what key provides the relevant data,\n",
        "# and use the data provided by the films resources to find the correct resource\n"
      ],
      "execution_count": 0,
      "outputs": []
    },
    {
      "metadata": {
        "id": "2DHYGh5xuh8d",
        "colab_type": "text"
      },
      "cell_type": "markdown",
      "source": [
        "*One way to do this:*\n",
        "```python\n",
        "for film in films.json()['results']:\n",
        "  if film['episode_id'] == 1:\n",
        "    print(film['title'])\n",
        "```"
      ]
    },
    {
      "metadata": {
        "id": "XvFzMsin8Xop",
        "colab_type": "text"
      },
      "cell_type": "markdown",
      "source": [
        "## 4. Pagination and parameters\n",
        "---\n",
        "An API request has the possibility to return a lot of data. In order to ensure that requested data is returned efficiently many APIs have a mechanism to limit the total amount of data returned per request. Often, large datasets from an API are returned in smaller chunks as 'pages,' where each page contains a limited number of resources that successively compose the entire dataset (e.g., page 1 contains resources 1-10, page 2 contains resources 11-20, etc.).\n",
        "\n",
        "The SWAPI paginates large requests–requiring a specific page parameter to be called in order to access pages beyond page 1. Conveniently, the requests library provides a way to easily provide parameters when making a request."
      ]
    },
    {
      "metadata": {
        "id": "F9Pu3o0-ABHR",
        "colab_type": "text"
      },
      "cell_type": "markdown",
      "source": [
        "### Observe paginated results with the 'planets' resource\n",
        "We can see how SWAPI requests are paginated by requesting a large list of resources."
      ]
    },
    {
      "metadata": {
        "id": "rpZqQIQeBxc-",
        "colab_type": "text"
      },
      "cell_type": "markdown",
      "source": [
        "**TODO: Use the code cell below to request the 'planets' resource and print out the decoded JSON data**"
      ]
    },
    {
      "metadata": {
        "id": "5MMgb6EOpBOz",
        "colab_type": "code",
        "colab": {}
      },
      "cell_type": "code",
      "source": [
        "# HINT: the planets resource is located at https://swapi.co/api/planets\n"
      ],
      "execution_count": 0,
      "outputs": []
    },
    {
      "metadata": {
        "id": "ep5LK-fzRtry",
        "colab_type": "text"
      },
      "cell_type": "markdown",
      "source": [
        "**TODO: Use the code cell below to print out 1) the total number of planets in the SWAPI and 2) the length of the results returned by the 'planets' request**"
      ]
    },
    {
      "metadata": {
        "id": "rrnXXHhItHLo",
        "colab_type": "code",
        "outputId": "51e64d02-8150-4e11-f083-665ed1111672",
        "colab": {
          "base_uri": "https://localhost:8080/",
          "height": 35
        }
      },
      "cell_type": "code",
      "source": [
        "# HINT: the number of planets is stored in a key named 'count'. The actual\n",
        "# number of planet resources returned by the request can be determined by\n",
        "# finding the length of the results of the decoded request (use the Python \n",
        "# method len() to find the lingth of a list).\n",
        "print(len(planets['results']), planets['count'])"
      ],
      "execution_count": 13,
      "outputs": [
        {
          "output_type": "stream",
          "text": [
            "10 61\n"
          ],
          "name": "stdout"
        }
      ]
    },
    {
      "metadata": {
        "id": "PWhP6OjYW7sC",
        "colab_type": "text"
      },
      "cell_type": "markdown",
      "source": [
        "### Requesting a specific page with query parameters\n",
        "\n",
        "The SWAPI provides access to a specific numbered page of resource results using a URL query string. A query string consists of the URL resource being requested followed by a question mark and key/value pairs representing query structures. For example, a URL to request the 2nd page of the planets resource would be written:\n",
        "\n",
        "```\n",
        "https://swapi.co/api/planets?page=2\n",
        "```\n",
        "\n",
        "Where the key is represented by `page` and the value is `2`. Many APIs provide the ability to make a request with multiple query paramenters.\n",
        "\n",
        "**TODO: Use the code cell below to print out the decoded response of a request to the 3rd page of the planets resource**"
      ]
    },
    {
      "metadata": {
        "id": "Z13d-cmqA--n",
        "colab_type": "code",
        "colab": {}
      },
      "cell_type": "code",
      "source": [
        ""
      ],
      "execution_count": 0,
      "outputs": []
    },
    {
      "metadata": {
        "id": "MVGqQ5T2cv6R",
        "colab_type": "text"
      },
      "cell_type": "markdown",
      "source": [
        "The request library provides a more programmatic way to include query parameters in a URL request with the keyword argument `params`. You can include query parameters by providing a Dictionary containing key/vlaue pairs that represent the key/value pairs of your query.\n",
        "\n",
        "For example, the previous query for the 3rd page of the planets resource would be constructed:\n",
        "```\n",
        "requests.get(baseUrl + 'planets', params={\"page\": 3})\n",
        "```\n"
      ]
    },
    {
      "metadata": {
        "id": "gQbCkfvfmkt6",
        "colab_type": "text"
      },
      "cell_type": "markdown",
      "source": [
        "**TODO: Use the code cell below to make a request to the 7th page of the planets resource using the request library `params` keyword argument and print the decoded results**"
      ]
    },
    {
      "metadata": {
        "id": "DsiIgqGHnBYF",
        "colab_type": "code",
        "colab": {}
      },
      "cell_type": "code",
      "source": [
        ""
      ],
      "execution_count": 0,
      "outputs": []
    },
    {
      "metadata": {
        "id": "KHhw5zD9OVZD",
        "colab_type": "text"
      },
      "cell_type": "markdown",
      "source": [
        "### Accessing all data from a paginated resource\n",
        "\n",
        "To access all of the data from a paginated resource we have to make a call to each individual page. This could be done by writing a call to each page as individual lines of code:\n",
        "\n",
        "```\n",
        "requests.get(baseUrl + 'planets', params={\"page\": 1})\n",
        "requests.get(baseUrl + 'planets', params={\"page\": 2})\n",
        "...\n",
        "requests.get(baseUrl + 'planets', params={\"page\": 7})\n",
        "```\n",
        "\n",
        "This code is not concise and this structure would not be feasible if the dataset is extremely large. Instead, we can use information returned from a page request to determine if another page is available and, if available, request the next page. Repeatedly perfroming this action would provide data for all pages including the intially requested page.\n",
        "\n",
        "The SWAPI provides a key value of `next` for each page request that contains the URL of the location of the next successive page of data for this resource, if there is a next page (*look at the `next` key value printed in the two previous cells to see what the value is when another page is available and when it is not*). Using the value stored in `next` we can write a loop to succesively request a page while another page is available. For the planets resource, this could be set up as shown below.\n",
        "\n",
        "This code will store all the planet data in a variable named **`allPlanets`**."
      ]
    },
    {
      "metadata": {
        "id": "hN4q7v6ac0_e",
        "colab_type": "code",
        "outputId": "fdb287b9-ae2b-4bfe-b230-a4363f24727d",
        "colab": {
          "base_uri": "https://localhost:8080/",
          "height": 16307
        }
      },
      "cell_type": "code",
      "source": [
        "# Set the initial page number to request\n",
        "pageNum = 1\n",
        "\n",
        "# Create an initial request to the set page of the planets resource\n",
        "initialRequest = requests.get(baseUrl + 'planets',\n",
        "                              params={'page': pageNum}).json()\n",
        "\n",
        "# Store the list of results\n",
        "allPlanets = initialRequest['results']\n",
        "\n",
        "# Get value the contained in next\n",
        "nextPage = initialRequest['next']\n",
        "\n",
        "# Create a loop that runs while nextPage does not equal None\n",
        "while (nextPage != None):\n",
        "  # Increment the pageNum value by one\n",
        "  pageNum += 1\n",
        "  \n",
        "  # Make a new request with the updated page number\n",
        "  planets = requests.get(baseUrl + 'planets', params={'page': pageNum}).json()\n",
        "  \n",
        "  # Add the list of results from this request to the existing list\n",
        "  allPlanets.extend(planets['results'])\n",
        "  \n",
        "  # Get value the contained in next\n",
        "  nextPage = planets['next']\n",
        "\n",
        "# Check that we have the correct number of planets in allPlanets\n",
        "print(\"Length of allPlanets: \" + str(len(allPlanets)))\n",
        "allPlanets"
      ],
      "execution_count": 88,
      "outputs": [
        {
          "output_type": "stream",
          "text": [
            "Length of allPlanets: 61\n"
          ],
          "name": "stdout"
        },
        {
          "output_type": "execute_result",
          "data": {
            "text/plain": [
              "[{'climate': 'temperate',\n",
              "  'created': '2014-12-10T11:35:48.479000Z',\n",
              "  'diameter': '12500',\n",
              "  'edited': '2014-12-20T20:58:18.420000Z',\n",
              "  'films': ['https://swapi.co/api/films/6/', 'https://swapi.co/api/films/1/'],\n",
              "  'gravity': '1 standard',\n",
              "  'name': 'Alderaan',\n",
              "  'orbital_period': '364',\n",
              "  'population': '2000000000',\n",
              "  'residents': ['https://swapi.co/api/people/5/',\n",
              "   'https://swapi.co/api/people/68/',\n",
              "   'https://swapi.co/api/people/81/'],\n",
              "  'rotation_period': '24',\n",
              "  'surface_water': '40',\n",
              "  'terrain': 'grasslands, mountains',\n",
              "  'url': 'https://swapi.co/api/planets/2/'},\n",
              " {'climate': 'temperate, tropical',\n",
              "  'created': '2014-12-10T11:37:19.144000Z',\n",
              "  'diameter': '10200',\n",
              "  'edited': '2014-12-20T20:58:18.421000Z',\n",
              "  'films': ['https://swapi.co/api/films/1/'],\n",
              "  'gravity': '1 standard',\n",
              "  'name': 'Yavin IV',\n",
              "  'orbital_period': '4818',\n",
              "  'population': '1000',\n",
              "  'residents': [],\n",
              "  'rotation_period': '24',\n",
              "  'surface_water': '8',\n",
              "  'terrain': 'jungle, rainforests',\n",
              "  'url': 'https://swapi.co/api/planets/3/'},\n",
              " {'climate': 'frozen',\n",
              "  'created': '2014-12-10T11:39:13.934000Z',\n",
              "  'diameter': '7200',\n",
              "  'edited': '2014-12-20T20:58:18.423000Z',\n",
              "  'films': ['https://swapi.co/api/films/2/'],\n",
              "  'gravity': '1.1 standard',\n",
              "  'name': 'Hoth',\n",
              "  'orbital_period': '549',\n",
              "  'population': 'unknown',\n",
              "  'residents': [],\n",
              "  'rotation_period': '23',\n",
              "  'surface_water': '100',\n",
              "  'terrain': 'tundra, ice caves, mountain ranges',\n",
              "  'url': 'https://swapi.co/api/planets/4/'},\n",
              " {'climate': 'murky',\n",
              "  'created': '2014-12-10T11:42:22.590000Z',\n",
              "  'diameter': '8900',\n",
              "  'edited': '2014-12-20T20:58:18.425000Z',\n",
              "  'films': ['https://swapi.co/api/films/2/',\n",
              "   'https://swapi.co/api/films/6/',\n",
              "   'https://swapi.co/api/films/3/'],\n",
              "  'gravity': 'N/A',\n",
              "  'name': 'Dagobah',\n",
              "  'orbital_period': '341',\n",
              "  'population': 'unknown',\n",
              "  'residents': [],\n",
              "  'rotation_period': '23',\n",
              "  'surface_water': '8',\n",
              "  'terrain': 'swamp, jungles',\n",
              "  'url': 'https://swapi.co/api/planets/5/'},\n",
              " {'climate': 'temperate',\n",
              "  'created': '2014-12-10T11:43:55.240000Z',\n",
              "  'diameter': '118000',\n",
              "  'edited': '2014-12-20T20:58:18.427000Z',\n",
              "  'films': ['https://swapi.co/api/films/2/'],\n",
              "  'gravity': '1.5 (surface), 1 standard (Cloud City)',\n",
              "  'name': 'Bespin',\n",
              "  'orbital_period': '5110',\n",
              "  'population': '6000000',\n",
              "  'residents': ['https://swapi.co/api/people/26/'],\n",
              "  'rotation_period': '12',\n",
              "  'surface_water': '0',\n",
              "  'terrain': 'gas giant',\n",
              "  'url': 'https://swapi.co/api/planets/6/'},\n",
              " {'climate': 'temperate',\n",
              "  'created': '2014-12-10T11:50:29.349000Z',\n",
              "  'diameter': '4900',\n",
              "  'edited': '2014-12-20T20:58:18.429000Z',\n",
              "  'films': ['https://swapi.co/api/films/3/'],\n",
              "  'gravity': '0.85 standard',\n",
              "  'name': 'Endor',\n",
              "  'orbital_period': '402',\n",
              "  'population': '30000000',\n",
              "  'residents': ['https://swapi.co/api/people/30/'],\n",
              "  'rotation_period': '18',\n",
              "  'surface_water': '8',\n",
              "  'terrain': 'forests, mountains, lakes',\n",
              "  'url': 'https://swapi.co/api/planets/7/'},\n",
              " {'climate': 'temperate',\n",
              "  'created': '2014-12-10T11:52:31.066000Z',\n",
              "  'diameter': '12120',\n",
              "  'edited': '2014-12-20T20:58:18.430000Z',\n",
              "  'films': ['https://swapi.co/api/films/5/',\n",
              "   'https://swapi.co/api/films/4/',\n",
              "   'https://swapi.co/api/films/6/',\n",
              "   'https://swapi.co/api/films/3/'],\n",
              "  'gravity': '1 standard',\n",
              "  'name': 'Naboo',\n",
              "  'orbital_period': '312',\n",
              "  'population': '4500000000',\n",
              "  'residents': ['https://swapi.co/api/people/3/',\n",
              "   'https://swapi.co/api/people/21/',\n",
              "   'https://swapi.co/api/people/36/',\n",
              "   'https://swapi.co/api/people/37/',\n",
              "   'https://swapi.co/api/people/38/',\n",
              "   'https://swapi.co/api/people/39/',\n",
              "   'https://swapi.co/api/people/42/',\n",
              "   'https://swapi.co/api/people/60/',\n",
              "   'https://swapi.co/api/people/61/',\n",
              "   'https://swapi.co/api/people/66/',\n",
              "   'https://swapi.co/api/people/35/'],\n",
              "  'rotation_period': '26',\n",
              "  'surface_water': '12',\n",
              "  'terrain': 'grassy hills, swamps, forests, mountains',\n",
              "  'url': 'https://swapi.co/api/planets/8/'},\n",
              " {'climate': 'temperate',\n",
              "  'created': '2014-12-10T11:54:13.921000Z',\n",
              "  'diameter': '12240',\n",
              "  'edited': '2014-12-20T20:58:18.432000Z',\n",
              "  'films': ['https://swapi.co/api/films/5/',\n",
              "   'https://swapi.co/api/films/4/',\n",
              "   'https://swapi.co/api/films/6/',\n",
              "   'https://swapi.co/api/films/3/'],\n",
              "  'gravity': '1 standard',\n",
              "  'name': 'Coruscant',\n",
              "  'orbital_period': '368',\n",
              "  'population': '1000000000000',\n",
              "  'residents': ['https://swapi.co/api/people/34/',\n",
              "   'https://swapi.co/api/people/55/',\n",
              "   'https://swapi.co/api/people/74/'],\n",
              "  'rotation_period': '24',\n",
              "  'surface_water': 'unknown',\n",
              "  'terrain': 'cityscape, mountains',\n",
              "  'url': 'https://swapi.co/api/planets/9/'},\n",
              " {'climate': 'temperate',\n",
              "  'created': '2014-12-10T12:45:06.577000Z',\n",
              "  'diameter': '19720',\n",
              "  'edited': '2014-12-20T20:58:18.434000Z',\n",
              "  'films': ['https://swapi.co/api/films/5/'],\n",
              "  'gravity': '1 standard',\n",
              "  'name': 'Kamino',\n",
              "  'orbital_period': '463',\n",
              "  'population': '1000000000',\n",
              "  'residents': ['https://swapi.co/api/people/22/',\n",
              "   'https://swapi.co/api/people/72/',\n",
              "   'https://swapi.co/api/people/73/'],\n",
              "  'rotation_period': '27',\n",
              "  'surface_water': '100',\n",
              "  'terrain': 'ocean',\n",
              "  'url': 'https://swapi.co/api/planets/10/'},\n",
              " {'climate': 'temperate, arid',\n",
              "  'created': '2014-12-10T12:47:22.350000Z',\n",
              "  'diameter': '11370',\n",
              "  'edited': '2014-12-20T20:58:18.437000Z',\n",
              "  'films': ['https://swapi.co/api/films/5/'],\n",
              "  'gravity': '0.9 standard',\n",
              "  'name': 'Geonosis',\n",
              "  'orbital_period': '256',\n",
              "  'population': '100000000000',\n",
              "  'residents': ['https://swapi.co/api/people/63/'],\n",
              "  'rotation_period': '30',\n",
              "  'surface_water': '5',\n",
              "  'terrain': 'rock, desert, mountain, barren',\n",
              "  'url': 'https://swapi.co/api/planets/11/'},\n",
              " {'climate': 'temperate, arid, windy',\n",
              "  'created': '2014-12-10T12:49:01.491000Z',\n",
              "  'diameter': '12900',\n",
              "  'edited': '2014-12-20T20:58:18.439000Z',\n",
              "  'films': ['https://swapi.co/api/films/6/'],\n",
              "  'gravity': '1 standard',\n",
              "  'name': 'Utapau',\n",
              "  'orbital_period': '351',\n",
              "  'population': '95000000',\n",
              "  'residents': ['https://swapi.co/api/people/83/'],\n",
              "  'rotation_period': '27',\n",
              "  'surface_water': '0.9',\n",
              "  'terrain': 'scrublands, savanna, canyons, sinkholes',\n",
              "  'url': 'https://swapi.co/api/planets/12/'},\n",
              " {'climate': 'hot',\n",
              "  'created': '2014-12-10T12:50:16.526000Z',\n",
              "  'diameter': '4200',\n",
              "  'edited': '2014-12-20T20:58:18.440000Z',\n",
              "  'films': ['https://swapi.co/api/films/6/'],\n",
              "  'gravity': '1 standard',\n",
              "  'name': 'Mustafar',\n",
              "  'orbital_period': '412',\n",
              "  'population': '20000',\n",
              "  'residents': [],\n",
              "  'rotation_period': '36',\n",
              "  'surface_water': '0',\n",
              "  'terrain': 'volcanoes, lava rivers, mountains, caves',\n",
              "  'url': 'https://swapi.co/api/planets/13/'},\n",
              " {'climate': 'tropical',\n",
              "  'created': '2014-12-10T13:32:00.124000Z',\n",
              "  'diameter': '12765',\n",
              "  'edited': '2014-12-20T20:58:18.442000Z',\n",
              "  'films': ['https://swapi.co/api/films/6/'],\n",
              "  'gravity': '1 standard',\n",
              "  'name': 'Kashyyyk',\n",
              "  'orbital_period': '381',\n",
              "  'population': '45000000',\n",
              "  'residents': ['https://swapi.co/api/people/13/',\n",
              "   'https://swapi.co/api/people/80/'],\n",
              "  'rotation_period': '26',\n",
              "  'surface_water': '60',\n",
              "  'terrain': 'jungle, forests, lakes, rivers',\n",
              "  'url': 'https://swapi.co/api/planets/14/'},\n",
              " {'climate': 'artificial temperate ',\n",
              "  'created': '2014-12-10T13:33:46.405000Z',\n",
              "  'diameter': '0',\n",
              "  'edited': '2014-12-20T20:58:18.444000Z',\n",
              "  'films': ['https://swapi.co/api/films/6/'],\n",
              "  'gravity': '0.56 standard',\n",
              "  'name': 'Polis Massa',\n",
              "  'orbital_period': '590',\n",
              "  'population': '1000000',\n",
              "  'residents': [],\n",
              "  'rotation_period': '24',\n",
              "  'surface_water': '0',\n",
              "  'terrain': 'airless asteroid',\n",
              "  'url': 'https://swapi.co/api/planets/15/'},\n",
              " {'climate': 'frigid',\n",
              "  'created': '2014-12-10T13:43:39.139000Z',\n",
              "  'diameter': '10088',\n",
              "  'edited': '2014-12-20T20:58:18.446000Z',\n",
              "  'films': ['https://swapi.co/api/films/6/'],\n",
              "  'gravity': '1 standard',\n",
              "  'name': 'Mygeeto',\n",
              "  'orbital_period': '167',\n",
              "  'population': '19000000',\n",
              "  'residents': [],\n",
              "  'rotation_period': '12',\n",
              "  'surface_water': 'unknown',\n",
              "  'terrain': 'glaciers, mountains, ice canyons',\n",
              "  'url': 'https://swapi.co/api/planets/16/'},\n",
              " {'climate': 'hot, humid',\n",
              "  'created': '2014-12-10T13:44:50.397000Z',\n",
              "  'diameter': '9100',\n",
              "  'edited': '2014-12-20T20:58:18.447000Z',\n",
              "  'films': ['https://swapi.co/api/films/6/'],\n",
              "  'gravity': '0.75 standard',\n",
              "  'name': 'Felucia',\n",
              "  'orbital_period': '231',\n",
              "  'population': '8500000',\n",
              "  'residents': [],\n",
              "  'rotation_period': '34',\n",
              "  'surface_water': 'unknown',\n",
              "  'terrain': 'fungus forests',\n",
              "  'url': 'https://swapi.co/api/planets/17/'},\n",
              " {'climate': 'temperate, moist',\n",
              "  'created': '2014-12-10T13:46:28.704000Z',\n",
              "  'diameter': '0',\n",
              "  'edited': '2014-12-20T20:58:18.449000Z',\n",
              "  'films': ['https://swapi.co/api/films/6/'],\n",
              "  'gravity': '1 standard',\n",
              "  'name': 'Cato Neimoidia',\n",
              "  'orbital_period': '278',\n",
              "  'population': '10000000',\n",
              "  'residents': ['https://swapi.co/api/people/33/'],\n",
              "  'rotation_period': '25',\n",
              "  'surface_water': 'unknown',\n",
              "  'terrain': 'mountains, fields, forests, rock arches',\n",
              "  'url': 'https://swapi.co/api/planets/18/'},\n",
              " {'climate': 'hot',\n",
              "  'created': '2014-12-10T13:47:46.874000Z',\n",
              "  'diameter': '14920',\n",
              "  'edited': '2014-12-20T20:58:18.450000Z',\n",
              "  'films': ['https://swapi.co/api/films/6/'],\n",
              "  'gravity': 'unknown',\n",
              "  'name': 'Saleucami',\n",
              "  'orbital_period': '392',\n",
              "  'population': '1400000000',\n",
              "  'residents': [],\n",
              "  'rotation_period': '26',\n",
              "  'surface_water': 'unknown',\n",
              "  'terrain': 'caves, desert, mountains, volcanoes',\n",
              "  'url': 'https://swapi.co/api/planets/19/'},\n",
              " {'climate': 'temperate',\n",
              "  'created': '2014-12-10T16:16:26.566000Z',\n",
              "  'diameter': '0',\n",
              "  'edited': '2014-12-20T20:58:18.452000Z',\n",
              "  'films': [],\n",
              "  'gravity': '1 standard',\n",
              "  'name': 'Stewjon',\n",
              "  'orbital_period': 'unknown',\n",
              "  'population': 'unknown',\n",
              "  'residents': ['https://swapi.co/api/people/10/'],\n",
              "  'rotation_period': 'unknown',\n",
              "  'surface_water': 'unknown',\n",
              "  'terrain': 'grass',\n",
              "  'url': 'https://swapi.co/api/planets/20/'},\n",
              " {'climate': 'polluted',\n",
              "  'created': '2014-12-10T16:26:54.384000Z',\n",
              "  'diameter': '13490',\n",
              "  'edited': '2014-12-20T20:58:18.454000Z',\n",
              "  'films': [],\n",
              "  'gravity': '1 standard',\n",
              "  'name': 'Eriadu',\n",
              "  'orbital_period': '360',\n",
              "  'population': '22000000000',\n",
              "  'residents': ['https://swapi.co/api/people/12/'],\n",
              "  'rotation_period': '24',\n",
              "  'surface_water': 'unknown',\n",
              "  'terrain': 'cityscape',\n",
              "  'url': 'https://swapi.co/api/planets/21/'},\n",
              " {'climate': 'temperate',\n",
              "  'created': '2014-12-10T16:49:12.453000Z',\n",
              "  'diameter': '11000',\n",
              "  'edited': '2014-12-20T20:58:18.456000Z',\n",
              "  'films': [],\n",
              "  'gravity': '1 standard',\n",
              "  'name': 'Corellia',\n",
              "  'orbital_period': '329',\n",
              "  'population': '3000000000',\n",
              "  'residents': ['https://swapi.co/api/people/14/',\n",
              "   'https://swapi.co/api/people/18/'],\n",
              "  'rotation_period': '25',\n",
              "  'surface_water': '70',\n",
              "  'terrain': 'plains, urban, hills, forests',\n",
              "  'url': 'https://swapi.co/api/planets/22/'},\n",
              " {'climate': 'hot',\n",
              "  'created': '2014-12-10T17:03:28.110000Z',\n",
              "  'diameter': '7549',\n",
              "  'edited': '2014-12-20T20:58:18.458000Z',\n",
              "  'films': [],\n",
              "  'gravity': '1 standard',\n",
              "  'name': 'Rodia',\n",
              "  'orbital_period': '305',\n",
              "  'population': '1300000000',\n",
              "  'residents': ['https://swapi.co/api/people/15/'],\n",
              "  'rotation_period': '29',\n",
              "  'surface_water': '60',\n",
              "  'terrain': 'jungles, oceans, urban, swamps',\n",
              "  'url': 'https://swapi.co/api/planets/23/'},\n",
              " {'climate': 'temperate',\n",
              "  'created': '2014-12-10T17:11:29.452000Z',\n",
              "  'diameter': '12150',\n",
              "  'edited': '2014-12-20T20:58:18.460000Z',\n",
              "  'films': [],\n",
              "  'gravity': '1 standard',\n",
              "  'name': 'Nal Hutta',\n",
              "  'orbital_period': '413',\n",
              "  'population': '7000000000',\n",
              "  'residents': ['https://swapi.co/api/people/16/'],\n",
              "  'rotation_period': '87',\n",
              "  'surface_water': 'unknown',\n",
              "  'terrain': 'urban, oceans, swamps, bogs',\n",
              "  'url': 'https://swapi.co/api/planets/24/'},\n",
              " {'climate': 'temperate',\n",
              "  'created': '2014-12-10T17:23:29.896000Z',\n",
              "  'diameter': '9830',\n",
              "  'edited': '2014-12-20T20:58:18.461000Z',\n",
              "  'films': [],\n",
              "  'gravity': '1 standard',\n",
              "  'name': 'Dantooine',\n",
              "  'orbital_period': '378',\n",
              "  'population': '1000',\n",
              "  'residents': [],\n",
              "  'rotation_period': '25',\n",
              "  'surface_water': 'unknown',\n",
              "  'terrain': 'oceans, savannas, mountains, grasslands',\n",
              "  'url': 'https://swapi.co/api/planets/25/'},\n",
              " {'climate': 'temperate',\n",
              "  'created': '2014-12-12T11:16:55.078000Z',\n",
              "  'diameter': '6400',\n",
              "  'edited': '2014-12-20T20:58:18.463000Z',\n",
              "  'films': [],\n",
              "  'gravity': 'unknown',\n",
              "  'name': 'Bestine IV',\n",
              "  'orbital_period': '680',\n",
              "  'population': '62000000',\n",
              "  'residents': ['https://swapi.co/api/people/19/'],\n",
              "  'rotation_period': '26',\n",
              "  'surface_water': '98',\n",
              "  'terrain': 'rocky islands, oceans',\n",
              "  'url': 'https://swapi.co/api/planets/26/'},\n",
              " {'climate': 'temperate',\n",
              "  'created': '2014-12-15T12:23:41.661000Z',\n",
              "  'diameter': '14050',\n",
              "  'edited': '2014-12-20T20:58:18.464000Z',\n",
              "  'films': ['https://swapi.co/api/films/2/'],\n",
              "  'gravity': '1 standard',\n",
              "  'name': 'Ord Mantell',\n",
              "  'orbital_period': '334',\n",
              "  'population': '4000000000',\n",
              "  'residents': [],\n",
              "  'rotation_period': '26',\n",
              "  'surface_water': '10',\n",
              "  'terrain': 'plains, seas, mesas',\n",
              "  'url': 'https://swapi.co/api/planets/27/'},\n",
              " {'climate': 'unknown',\n",
              "  'created': '2014-12-15T12:25:59.569000Z',\n",
              "  'diameter': '0',\n",
              "  'edited': '2014-12-20T20:58:18.466000Z',\n",
              "  'films': [],\n",
              "  'gravity': 'unknown',\n",
              "  'name': 'unknown',\n",
              "  'orbital_period': '0',\n",
              "  'population': 'unknown',\n",
              "  'residents': ['https://swapi.co/api/people/20/',\n",
              "   'https://swapi.co/api/people/23/',\n",
              "   'https://swapi.co/api/people/29/',\n",
              "   'https://swapi.co/api/people/32/',\n",
              "   'https://swapi.co/api/people/75/',\n",
              "   'https://swapi.co/api/people/84/',\n",
              "   'https://swapi.co/api/people/85/',\n",
              "   'https://swapi.co/api/people/86/',\n",
              "   'https://swapi.co/api/people/87/',\n",
              "   'https://swapi.co/api/people/88/'],\n",
              "  'rotation_period': '0',\n",
              "  'surface_water': 'unknown',\n",
              "  'terrain': 'unknown',\n",
              "  'url': 'https://swapi.co/api/planets/28/'},\n",
              " {'climate': 'arid',\n",
              "  'created': '2014-12-15T12:53:47.695000Z',\n",
              "  'diameter': '0',\n",
              "  'edited': '2014-12-20T20:58:18.468000Z',\n",
              "  'films': [],\n",
              "  'gravity': '0.62 standard',\n",
              "  'name': 'Trandosha',\n",
              "  'orbital_period': '371',\n",
              "  'population': '42000000',\n",
              "  'residents': ['https://swapi.co/api/people/24/'],\n",
              "  'rotation_period': '25',\n",
              "  'surface_water': 'unknown',\n",
              "  'terrain': 'mountains, seas, grasslands, deserts',\n",
              "  'url': 'https://swapi.co/api/planets/29/'},\n",
              " {'climate': 'arid',\n",
              "  'created': '2014-12-15T12:56:31.121000Z',\n",
              "  'diameter': '0',\n",
              "  'edited': '2014-12-20T20:58:18.469000Z',\n",
              "  'films': [],\n",
              "  'gravity': '1 standard',\n",
              "  'name': 'Socorro',\n",
              "  'orbital_period': '326',\n",
              "  'population': '300000000',\n",
              "  'residents': ['https://swapi.co/api/people/25/'],\n",
              "  'rotation_period': '20',\n",
              "  'surface_water': 'unknown',\n",
              "  'terrain': 'deserts, mountains',\n",
              "  'url': 'https://swapi.co/api/planets/30/'},\n",
              " {'climate': 'temperate',\n",
              "  'created': '2014-12-18T11:07:01.792000Z',\n",
              "  'diameter': '11030',\n",
              "  'edited': '2014-12-20T20:58:18.471000Z',\n",
              "  'films': [],\n",
              "  'gravity': '1',\n",
              "  'name': 'Mon Cala',\n",
              "  'orbital_period': '398',\n",
              "  'population': '27000000000',\n",
              "  'residents': ['https://swapi.co/api/people/27/'],\n",
              "  'rotation_period': '21',\n",
              "  'surface_water': '100',\n",
              "  'terrain': 'oceans, reefs, islands',\n",
              "  'url': 'https://swapi.co/api/planets/31/'},\n",
              " {'climate': 'temperate',\n",
              "  'created': '2014-12-18T11:11:51.872000Z',\n",
              "  'diameter': '13500',\n",
              "  'edited': '2014-12-20T20:58:18.472000Z',\n",
              "  'films': [],\n",
              "  'gravity': '1',\n",
              "  'name': 'Chandrila',\n",
              "  'orbital_period': '368',\n",
              "  'population': '1200000000',\n",
              "  'residents': ['https://swapi.co/api/people/28/'],\n",
              "  'rotation_period': '20',\n",
              "  'surface_water': '40',\n",
              "  'terrain': 'plains, forests',\n",
              "  'url': 'https://swapi.co/api/planets/32/'},\n",
              " {'climate': 'superheated',\n",
              "  'created': '2014-12-18T11:25:40.243000Z',\n",
              "  'diameter': '12780',\n",
              "  'edited': '2014-12-20T20:58:18.474000Z',\n",
              "  'films': [],\n",
              "  'gravity': '1',\n",
              "  'name': 'Sullust',\n",
              "  'orbital_period': '263',\n",
              "  'population': '18500000000',\n",
              "  'residents': ['https://swapi.co/api/people/31/'],\n",
              "  'rotation_period': '20',\n",
              "  'surface_water': '5',\n",
              "  'terrain': 'mountains, volcanoes, rocky deserts',\n",
              "  'url': 'https://swapi.co/api/planets/33/'},\n",
              " {'climate': 'temperate',\n",
              "  'created': '2014-12-19T17:47:54.403000Z',\n",
              "  'diameter': '7900',\n",
              "  'edited': '2014-12-20T20:58:18.476000Z',\n",
              "  'films': [],\n",
              "  'gravity': '1',\n",
              "  'name': 'Toydaria',\n",
              "  'orbital_period': '184',\n",
              "  'population': '11000000',\n",
              "  'residents': ['https://swapi.co/api/people/40/'],\n",
              "  'rotation_period': '21',\n",
              "  'surface_water': 'unknown',\n",
              "  'terrain': 'swamps, lakes',\n",
              "  'url': 'https://swapi.co/api/planets/34/'},\n",
              " {'climate': 'arid, temperate, tropical',\n",
              "  'created': '2014-12-19T17:52:13.106000Z',\n",
              "  'diameter': '18880',\n",
              "  'edited': '2014-12-20T20:58:18.478000Z',\n",
              "  'films': [],\n",
              "  'gravity': '1.56',\n",
              "  'name': 'Malastare',\n",
              "  'orbital_period': '201',\n",
              "  'population': '2000000000',\n",
              "  'residents': ['https://swapi.co/api/people/41/'],\n",
              "  'rotation_period': '26',\n",
              "  'surface_water': 'unknown',\n",
              "  'terrain': 'swamps, deserts, jungles, mountains',\n",
              "  'url': 'https://swapi.co/api/planets/35/'},\n",
              " {'climate': 'temperate',\n",
              "  'created': '2014-12-19T18:00:40.142000Z',\n",
              "  'diameter': '10480',\n",
              "  'edited': '2014-12-20T20:58:18.480000Z',\n",
              "  'films': [],\n",
              "  'gravity': '0.9',\n",
              "  'name': 'Dathomir',\n",
              "  'orbital_period': '491',\n",
              "  'population': '5200',\n",
              "  'residents': ['https://swapi.co/api/people/44/'],\n",
              "  'rotation_period': '24',\n",
              "  'surface_water': 'unknown',\n",
              "  'terrain': 'forests, deserts, savannas',\n",
              "  'url': 'https://swapi.co/api/planets/36/'},\n",
              " {'climate': 'temperate, arid, subartic',\n",
              "  'created': '2014-12-20T09:46:25.740000Z',\n",
              "  'diameter': '10600',\n",
              "  'edited': '2014-12-20T20:58:18.481000Z',\n",
              "  'films': [],\n",
              "  'gravity': '1',\n",
              "  'name': 'Ryloth',\n",
              "  'orbital_period': '305',\n",
              "  'population': '1500000000',\n",
              "  'residents': ['https://swapi.co/api/people/45/',\n",
              "   'https://swapi.co/api/people/46/'],\n",
              "  'rotation_period': '30',\n",
              "  'surface_water': '5',\n",
              "  'terrain': 'mountains, valleys, deserts, tundra',\n",
              "  'url': 'https://swapi.co/api/planets/37/'},\n",
              " {'climate': 'unknown',\n",
              "  'created': '2014-12-20T09:52:23.452000Z',\n",
              "  'diameter': 'unknown',\n",
              "  'edited': '2014-12-20T20:58:18.483000Z',\n",
              "  'films': [],\n",
              "  'gravity': 'unknown',\n",
              "  'name': 'Aleen Minor',\n",
              "  'orbital_period': 'unknown',\n",
              "  'population': 'unknown',\n",
              "  'residents': ['https://swapi.co/api/people/47/'],\n",
              "  'rotation_period': 'unknown',\n",
              "  'surface_water': 'unknown',\n",
              "  'terrain': 'unknown',\n",
              "  'url': 'https://swapi.co/api/planets/38/'},\n",
              " {'climate': 'temperate, artic',\n",
              "  'created': '2014-12-20T09:56:58.874000Z',\n",
              "  'diameter': '14900',\n",
              "  'edited': '2014-12-20T20:58:18.485000Z',\n",
              "  'films': [],\n",
              "  'gravity': '1',\n",
              "  'name': 'Vulpter',\n",
              "  'orbital_period': '391',\n",
              "  'population': '421000000',\n",
              "  'residents': ['https://swapi.co/api/people/48/'],\n",
              "  'rotation_period': '22',\n",
              "  'surface_water': 'unknown',\n",
              "  'terrain': 'urban, barren',\n",
              "  'url': 'https://swapi.co/api/planets/39/'},\n",
              " {'climate': 'unknown',\n",
              "  'created': '2014-12-20T10:01:37.395000Z',\n",
              "  'diameter': 'unknown',\n",
              "  'edited': '2014-12-20T20:58:18.487000Z',\n",
              "  'films': [],\n",
              "  'gravity': 'unknown',\n",
              "  'name': 'Troiken',\n",
              "  'orbital_period': 'unknown',\n",
              "  'population': 'unknown',\n",
              "  'residents': ['https://swapi.co/api/people/49/'],\n",
              "  'rotation_period': 'unknown',\n",
              "  'surface_water': 'unknown',\n",
              "  'terrain': 'desert, tundra, rainforests, mountains',\n",
              "  'url': 'https://swapi.co/api/planets/40/'},\n",
              " {'climate': 'unknown',\n",
              "  'created': '2014-12-20T10:07:29.578000Z',\n",
              "  'diameter': '12190',\n",
              "  'edited': '2014-12-20T20:58:18.489000Z',\n",
              "  'films': [],\n",
              "  'gravity': 'unknown',\n",
              "  'name': 'Tund',\n",
              "  'orbital_period': '1770',\n",
              "  'population': '0',\n",
              "  'residents': ['https://swapi.co/api/people/50/'],\n",
              "  'rotation_period': '48',\n",
              "  'surface_water': 'unknown',\n",
              "  'terrain': 'barren, ash',\n",
              "  'url': 'https://swapi.co/api/planets/41/'},\n",
              " {'climate': 'temperate',\n",
              "  'created': '2014-12-20T10:12:28.980000Z',\n",
              "  'diameter': '10120',\n",
              "  'edited': '2014-12-20T20:58:18.491000Z',\n",
              "  'films': [],\n",
              "  'gravity': '0.98',\n",
              "  'name': 'Haruun Kal',\n",
              "  'orbital_period': '383',\n",
              "  'population': '705300',\n",
              "  'residents': ['https://swapi.co/api/people/51/'],\n",
              "  'rotation_period': '25',\n",
              "  'surface_water': 'unknown',\n",
              "  'terrain': 'toxic cloudsea, plateaus, volcanoes',\n",
              "  'url': 'https://swapi.co/api/planets/42/'},\n",
              " {'climate': 'temperate',\n",
              "  'created': '2014-12-20T10:14:48.178000Z',\n",
              "  'diameter': 'unknown',\n",
              "  'edited': '2014-12-20T20:58:18.493000Z',\n",
              "  'films': [],\n",
              "  'gravity': '1',\n",
              "  'name': 'Cerea',\n",
              "  'orbital_period': '386',\n",
              "  'population': '450000000',\n",
              "  'residents': ['https://swapi.co/api/people/52/'],\n",
              "  'rotation_period': '27',\n",
              "  'surface_water': '20',\n",
              "  'terrain': 'verdant',\n",
              "  'url': 'https://swapi.co/api/planets/43/'},\n",
              " {'climate': 'tropical, temperate',\n",
              "  'created': '2014-12-20T10:18:26.110000Z',\n",
              "  'diameter': '15600',\n",
              "  'edited': '2014-12-20T20:58:18.495000Z',\n",
              "  'films': [],\n",
              "  'gravity': '1',\n",
              "  'name': 'Glee Anselm',\n",
              "  'orbital_period': '206',\n",
              "  'population': '500000000',\n",
              "  'residents': ['https://swapi.co/api/people/53/'],\n",
              "  'rotation_period': '33',\n",
              "  'surface_water': '80',\n",
              "  'terrain': 'lakes, islands, swamps, seas',\n",
              "  'url': 'https://swapi.co/api/planets/44/'},\n",
              " {'climate': 'unknown',\n",
              "  'created': '2014-12-20T10:26:05.788000Z',\n",
              "  'diameter': 'unknown',\n",
              "  'edited': '2014-12-20T20:58:18.497000Z',\n",
              "  'films': [],\n",
              "  'gravity': 'unknown',\n",
              "  'name': 'Iridonia',\n",
              "  'orbital_period': '413',\n",
              "  'population': 'unknown',\n",
              "  'residents': ['https://swapi.co/api/people/54/'],\n",
              "  'rotation_period': '29',\n",
              "  'surface_water': 'unknown',\n",
              "  'terrain': 'rocky canyons, acid pools',\n",
              "  'url': 'https://swapi.co/api/planets/45/'},\n",
              " {'climate': 'unknown',\n",
              "  'created': '2014-12-20T10:28:31.117000Z',\n",
              "  'diameter': 'unknown',\n",
              "  'edited': '2014-12-20T20:58:18.498000Z',\n",
              "  'films': [],\n",
              "  'gravity': 'unknown',\n",
              "  'name': 'Tholoth',\n",
              "  'orbital_period': 'unknown',\n",
              "  'population': 'unknown',\n",
              "  'residents': [],\n",
              "  'rotation_period': 'unknown',\n",
              "  'surface_water': 'unknown',\n",
              "  'terrain': 'unknown',\n",
              "  'url': 'https://swapi.co/api/planets/46/'},\n",
              " {'climate': 'arid, rocky, windy',\n",
              "  'created': '2014-12-20T10:31:32.413000Z',\n",
              "  'diameter': 'unknown',\n",
              "  'edited': '2014-12-20T20:58:18.500000Z',\n",
              "  'films': [],\n",
              "  'gravity': '1',\n",
              "  'name': 'Iktotch',\n",
              "  'orbital_period': '481',\n",
              "  'population': 'unknown',\n",
              "  'residents': ['https://swapi.co/api/people/56/'],\n",
              "  'rotation_period': '22',\n",
              "  'surface_water': 'unknown',\n",
              "  'terrain': 'rocky',\n",
              "  'url': 'https://swapi.co/api/planets/47/'},\n",
              " {'climate': 'unknown',\n",
              "  'created': '2014-12-20T10:34:08.249000Z',\n",
              "  'diameter': 'unknown',\n",
              "  'edited': '2014-12-20T20:58:18.502000Z',\n",
              "  'films': [],\n",
              "  'gravity': 'unknown',\n",
              "  'name': 'Quermia',\n",
              "  'orbital_period': 'unknown',\n",
              "  'population': 'unknown',\n",
              "  'residents': ['https://swapi.co/api/people/57/'],\n",
              "  'rotation_period': 'unknown',\n",
              "  'surface_water': 'unknown',\n",
              "  'terrain': 'unknown',\n",
              "  'url': 'https://swapi.co/api/planets/48/'},\n",
              " {'climate': 'temperate',\n",
              "  'created': '2014-12-20T10:48:36.141000Z',\n",
              "  'diameter': '13400',\n",
              "  'edited': '2014-12-20T20:58:18.504000Z',\n",
              "  'films': [],\n",
              "  'gravity': '1',\n",
              "  'name': 'Dorin',\n",
              "  'orbital_period': '409',\n",
              "  'population': 'unknown',\n",
              "  'residents': ['https://swapi.co/api/people/58/'],\n",
              "  'rotation_period': '22',\n",
              "  'surface_water': 'unknown',\n",
              "  'terrain': 'unknown',\n",
              "  'url': 'https://swapi.co/api/planets/49/'},\n",
              " {'climate': 'temperate',\n",
              "  'created': '2014-12-20T10:52:51.524000Z',\n",
              "  'diameter': 'unknown',\n",
              "  'edited': '2014-12-20T20:58:18.506000Z',\n",
              "  'films': [],\n",
              "  'gravity': '1',\n",
              "  'name': 'Champala',\n",
              "  'orbital_period': '318',\n",
              "  'population': '3500000000',\n",
              "  'residents': ['https://swapi.co/api/people/59/'],\n",
              "  'rotation_period': '27',\n",
              "  'surface_water': 'unknown',\n",
              "  'terrain': 'oceans, rainforests, plateaus',\n",
              "  'url': 'https://swapi.co/api/planets/50/'},\n",
              " {'climate': 'unknown',\n",
              "  'created': '2014-12-20T16:44:46.318000Z',\n",
              "  'diameter': 'unknown',\n",
              "  'edited': '2014-12-20T20:58:18.508000Z',\n",
              "  'films': [],\n",
              "  'gravity': 'unknown',\n",
              "  'name': 'Mirial',\n",
              "  'orbital_period': 'unknown',\n",
              "  'population': 'unknown',\n",
              "  'residents': ['https://swapi.co/api/people/64/',\n",
              "   'https://swapi.co/api/people/65/'],\n",
              "  'rotation_period': 'unknown',\n",
              "  'surface_water': 'unknown',\n",
              "  'terrain': 'deserts',\n",
              "  'url': 'https://swapi.co/api/planets/51/'},\n",
              " {'climate': 'unknown',\n",
              "  'created': '2014-12-20T16:52:13.357000Z',\n",
              "  'diameter': 'unknown',\n",
              "  'edited': '2014-12-20T20:58:18.510000Z',\n",
              "  'films': [],\n",
              "  'gravity': 'unknown',\n",
              "  'name': 'Serenno',\n",
              "  'orbital_period': 'unknown',\n",
              "  'population': 'unknown',\n",
              "  'residents': ['https://swapi.co/api/people/67/'],\n",
              "  'rotation_period': 'unknown',\n",
              "  'surface_water': 'unknown',\n",
              "  'terrain': 'rainforests, rivers, mountains',\n",
              "  'url': 'https://swapi.co/api/planets/52/'},\n",
              " {'climate': 'unknown',\n",
              "  'created': '2014-12-20T16:54:39.909000Z',\n",
              "  'diameter': 'unknown',\n",
              "  'edited': '2014-12-20T20:58:18.512000Z',\n",
              "  'films': [],\n",
              "  'gravity': 'unknown',\n",
              "  'name': 'Concord Dawn',\n",
              "  'orbital_period': 'unknown',\n",
              "  'population': 'unknown',\n",
              "  'residents': ['https://swapi.co/api/people/69/'],\n",
              "  'rotation_period': 'unknown',\n",
              "  'surface_water': 'unknown',\n",
              "  'terrain': 'jungles, forests, deserts',\n",
              "  'url': 'https://swapi.co/api/planets/53/'},\n",
              " {'climate': 'unknown',\n",
              "  'created': '2014-12-20T16:56:37.250000Z',\n",
              "  'diameter': 'unknown',\n",
              "  'edited': '2014-12-20T20:58:18.514000Z',\n",
              "  'films': [],\n",
              "  'gravity': 'unknown',\n",
              "  'name': 'Zolan',\n",
              "  'orbital_period': 'unknown',\n",
              "  'population': 'unknown',\n",
              "  'residents': ['https://swapi.co/api/people/70/'],\n",
              "  'rotation_period': 'unknown',\n",
              "  'surface_water': 'unknown',\n",
              "  'terrain': 'unknown',\n",
              "  'url': 'https://swapi.co/api/planets/54/'},\n",
              " {'climate': 'frigid',\n",
              "  'created': '2014-12-20T17:27:41.286000Z',\n",
              "  'diameter': 'unknown',\n",
              "  'edited': '2014-12-20T20:58:18.516000Z',\n",
              "  'films': [],\n",
              "  'gravity': 'unknown',\n",
              "  'name': 'Ojom',\n",
              "  'orbital_period': 'unknown',\n",
              "  'population': '500000000',\n",
              "  'residents': ['https://swapi.co/api/people/71/'],\n",
              "  'rotation_period': 'unknown',\n",
              "  'surface_water': '100',\n",
              "  'terrain': 'oceans, glaciers',\n",
              "  'url': 'https://swapi.co/api/planets/55/'},\n",
              " {'climate': 'temperate',\n",
              "  'created': '2014-12-20T17:50:47.864000Z',\n",
              "  'diameter': 'unknown',\n",
              "  'edited': '2014-12-20T20:58:18.517000Z',\n",
              "  'films': [],\n",
              "  'gravity': '1',\n",
              "  'name': 'Skako',\n",
              "  'orbital_period': '384',\n",
              "  'population': '500000000000',\n",
              "  'residents': ['https://swapi.co/api/people/76/'],\n",
              "  'rotation_period': '27',\n",
              "  'surface_water': 'unknown',\n",
              "  'terrain': 'urban, vines',\n",
              "  'url': 'https://swapi.co/api/planets/56/'},\n",
              " {'climate': 'temperate',\n",
              "  'created': '2014-12-20T17:57:47.420000Z',\n",
              "  'diameter': '13800',\n",
              "  'edited': '2014-12-20T20:58:18.519000Z',\n",
              "  'films': [],\n",
              "  'gravity': '1',\n",
              "  'name': 'Muunilinst',\n",
              "  'orbital_period': '412',\n",
              "  'population': '5000000000',\n",
              "  'residents': ['https://swapi.co/api/people/77/'],\n",
              "  'rotation_period': '28',\n",
              "  'surface_water': '25',\n",
              "  'terrain': 'plains, forests, hills, mountains',\n",
              "  'url': 'https://swapi.co/api/planets/57/'},\n",
              " {'climate': 'temperate',\n",
              "  'created': '2014-12-20T18:43:14.049000Z',\n",
              "  'diameter': 'unknown',\n",
              "  'edited': '2014-12-20T20:58:18.521000Z',\n",
              "  'films': [],\n",
              "  'gravity': '1',\n",
              "  'name': 'Shili',\n",
              "  'orbital_period': 'unknown',\n",
              "  'population': 'unknown',\n",
              "  'residents': ['https://swapi.co/api/people/78/'],\n",
              "  'rotation_period': 'unknown',\n",
              "  'surface_water': 'unknown',\n",
              "  'terrain': 'cities, savannahs, seas, plains',\n",
              "  'url': 'https://swapi.co/api/planets/58/'},\n",
              " {'climate': 'arid, temperate, tropical',\n",
              "  'created': '2014-12-20T19:43:51.278000Z',\n",
              "  'diameter': '13850',\n",
              "  'edited': '2014-12-20T20:58:18.523000Z',\n",
              "  'films': [],\n",
              "  'gravity': '1',\n",
              "  'name': 'Kalee',\n",
              "  'orbital_period': '378',\n",
              "  'population': '4000000000',\n",
              "  'residents': ['https://swapi.co/api/people/79/'],\n",
              "  'rotation_period': '23',\n",
              "  'surface_water': 'unknown',\n",
              "  'terrain': 'rainforests, cliffs, canyons, seas',\n",
              "  'url': 'https://swapi.co/api/planets/59/'},\n",
              " {'climate': 'unknown',\n",
              "  'created': '2014-12-20T20:18:36.256000Z',\n",
              "  'diameter': 'unknown',\n",
              "  'edited': '2014-12-20T20:58:18.525000Z',\n",
              "  'films': [],\n",
              "  'gravity': 'unknown',\n",
              "  'name': 'Umbara',\n",
              "  'orbital_period': 'unknown',\n",
              "  'population': 'unknown',\n",
              "  'residents': ['https://swapi.co/api/people/82/'],\n",
              "  'rotation_period': 'unknown',\n",
              "  'surface_water': 'unknown',\n",
              "  'terrain': 'unknown',\n",
              "  'url': 'https://swapi.co/api/planets/60/'},\n",
              " {'climate': 'arid',\n",
              "  'created': '2014-12-09T13:50:49.641000Z',\n",
              "  'diameter': '10465',\n",
              "  'edited': '2014-12-21T20:48:04.175778Z',\n",
              "  'films': ['https://swapi.co/api/films/5/',\n",
              "   'https://swapi.co/api/films/4/',\n",
              "   'https://swapi.co/api/films/6/',\n",
              "   'https://swapi.co/api/films/3/',\n",
              "   'https://swapi.co/api/films/1/'],\n",
              "  'gravity': '1 standard',\n",
              "  'name': 'Tatooine',\n",
              "  'orbital_period': '304',\n",
              "  'population': '200000',\n",
              "  'residents': ['https://swapi.co/api/people/1/',\n",
              "   'https://swapi.co/api/people/2/',\n",
              "   'https://swapi.co/api/people/4/',\n",
              "   'https://swapi.co/api/people/6/',\n",
              "   'https://swapi.co/api/people/7/',\n",
              "   'https://swapi.co/api/people/8/',\n",
              "   'https://swapi.co/api/people/9/',\n",
              "   'https://swapi.co/api/people/11/',\n",
              "   'https://swapi.co/api/people/43/',\n",
              "   'https://swapi.co/api/people/62/'],\n",
              "  'rotation_period': '23',\n",
              "  'surface_water': '1',\n",
              "  'terrain': 'desert',\n",
              "  'url': 'https://swapi.co/api/planets/1/'},\n",
              " {'climate': 'unknown',\n",
              "  'created': '2015-04-17T06:55:57.556495Z',\n",
              "  'diameter': 'unknown',\n",
              "  'edited': '2015-04-17T06:55:57.556551Z',\n",
              "  'films': ['https://swapi.co/api/films/7/'],\n",
              "  'gravity': 'unknown',\n",
              "  'name': 'Jakku',\n",
              "  'orbital_period': 'unknown',\n",
              "  'population': 'unknown',\n",
              "  'residents': [],\n",
              "  'rotation_period': 'unknown',\n",
              "  'surface_water': 'unknown',\n",
              "  'terrain': 'deserts',\n",
              "  'url': 'https://swapi.co/api/planets/61/'}]"
            ]
          },
          "metadata": {
            "tags": []
          },
          "execution_count": 88
        }
      ]
    },
    {
      "metadata": {
        "id": "wuesmXlzyVDU",
        "colab_type": "text"
      },
      "cell_type": "markdown",
      "source": [
        "This code can be generalized to create a function that we can use to request all the resources of one type:"
      ]
    },
    {
      "metadata": {
        "id": "s8xKF5ueLUWM",
        "colab_type": "code",
        "colab": {}
      },
      "cell_type": "code",
      "source": [
        "def getAllResources(resourceName):\n",
        "  '''\n",
        "    Return all resources of the type 'resourceName' from the SWAPI\n",
        "    Valid values are: films, people, planets, species, starships, vehicles\n",
        "  '''\n",
        "  allResources = []\n",
        "  nextPage = '1'\n",
        "  pageNum = 1\n",
        "  while (nextPage != None):\n",
        "    resourcePage = requests.get(baseUrl + resourceName, params={'page': pageNum}).json()\n",
        "    allResources.extend(resourcePage.get('results'))\n",
        "    pageNum += 1\n",
        "    nextPage = resourcePage.get('next')\n",
        "  return allResources"
      ],
      "execution_count": 0,
      "outputs": []
    },
    {
      "metadata": {
        "id": "rHyVgVYDsWF-",
        "colab_type": "text"
      },
      "cell_type": "markdown",
      "source": [
        "**TODO: Use the cell below to test the function `getAllResources` to fetch all the data from the `people` resource.**"
      ]
    },
    {
      "metadata": {
        "id": "9N7092MfLoNH",
        "colab_type": "code",
        "colab": {}
      },
      "cell_type": "code",
      "source": [
        ""
      ],
      "execution_count": 0,
      "outputs": []
    },
    {
      "metadata": {
        "id": "uNWXraL780Tc",
        "colab_type": "text"
      },
      "cell_type": "markdown",
      "source": [
        "## 5. The search parameter\n",
        "\n",
        "Another common feature of data APIs is the ability to search resources using query parameters. The SWAPI provides limited search capabilities on certain fields for each resource. For example, you can search the `person` resource using the `name` field. Similar to page requests, a search can be implemented using a query string with the key name `search` and a search string value. For example, to search for the name Luke:\n",
        "\n",
        "\n",
        "```\n",
        "https://swapi.co/api/people/?search=luke\n",
        "```\n",
        "\n",
        "According to the SWAPI documentation, searches are case-insensitive partial matches.\n",
        "\n",
        "**TODO: Use the cell below to search people for the name 'Fett' using the request library `params` keyword argument and print the decoded results**"
      ]
    },
    {
      "metadata": {
        "id": "y9H6l-5a-ydu",
        "colab_type": "code",
        "colab": {}
      },
      "cell_type": "code",
      "source": [
        ""
      ],
      "execution_count": 0,
      "outputs": []
    },
    {
      "metadata": {
        "id": "te2ZYays5o8I",
        "colab_type": "text"
      },
      "cell_type": "markdown",
      "source": [
        "## 6. Using SWAPI data in Python\n",
        "\n",
        "We will briefly cover formatting, analyzing, and graphing data from an API. Often the data obtained 'as is' from an API will need further processing in order to conduct analyses. The SWAPI data we are working with provides a good test example of common transformations that might need to be performed on similar data obtained from an API."
      ]
    },
    {
      "metadata": {
        "id": "0z8WIvp8Gmn0",
        "colab_type": "text"
      },
      "cell_type": "markdown",
      "source": [
        "### Import specialized Python libraries for working with data\n",
        "We will import two popular libraries for working with and graphing data in Python:\n",
        "\n",
        "* **Pandas** - a data analysis library ([Pandas user guide](http://pandas.pydata.org/pandas-docs/stable/user_guide/index.html))\n",
        "* **Matplotlib** - a Python 2D plotting library ([Matplotlib user guide](https://matplotlib.org/users/index.html))"
      ]
    },
    {
      "metadata": {
        "id": "XEGQZXbsouhJ",
        "colab_type": "code",
        "colab": {}
      },
      "cell_type": "code",
      "source": [
        "import pandas as pd\n",
        "import matplotlib.pyplot as plt"
      ],
      "execution_count": 0,
      "outputs": []
    },
    {
      "metadata": {
        "id": "aJ9_uHrMaSkI",
        "colab_type": "text"
      },
      "cell_type": "markdown",
      "source": [
        "### Creating a Pandas DataFrame\n",
        "Pandas provides the DataFrame data structure as a way to more easily work with two-dimensional tabular data (rows and columns). We can quickly convert a list of dictionaries to a DataFrame by calling the Pandas DataFrame function:\n",
        "```\n",
        "df = pd.DataFrame([list_name])\n",
        "```\n",
        "\n",
        "**TODO: Use the cell below to create a DataFrame of the `allPlanets` list of planet resources. Store this in a variable named `planets_df` and print the results**"
      ]
    },
    {
      "metadata": {
        "id": "iZZjwQM5IEC-",
        "colab_type": "code",
        "colab": {}
      },
      "cell_type": "code",
      "source": [
        ""
      ],
      "execution_count": 0,
      "outputs": []
    },
    {
      "metadata": {
        "id": "Ok-iqmBejdVd",
        "colab_type": "text"
      },
      "cell_type": "markdown",
      "source": [
        "### Reformatting data for graphing\n",
        "With a DataFrame we have access to functions to modify our dataset. We will remove unnecessary data fields (coulmns), edit existing fields, and create new data fields from existing fields."
      ]
    },
    {
      "metadata": {
        "id": "IZ1XkqKmlVBQ",
        "colab_type": "text"
      },
      "cell_type": "markdown",
      "source": [
        "#### Creating a new field\n",
        "A new field can be added to an existing DataFrame. We will create a new field called `film_count` in `planets_df` that contains the number of films in which each planet appears. This value can be computed from the existing `films` field using the `apply` function. We will use the following line of code to create a new field and compute the values:\n",
        "```python\n",
        "planets_df[\"film_count\"] = planets_df.films.apply(lambda x: len(x))\n",
        "```\n",
        "We first declare a new field in planets_df (`planets_df[\"film_count\"]`) to store the results of our computation. We then take the field films in planets_df (`planets_df.films`) and apply a function to each value in this field to compute the length of each list of films a planet is featured in (`.apply(lambda x: len(x))`).\n",
        "\n",
        "**TODO: Use the code cell below to create the new `film_count` field containing the count of the number of films in which a planet has been featured and print out the results**"
      ]
    },
    {
      "metadata": {
        "id": "U3CKSTYlovbF",
        "colab_type": "code",
        "colab": {}
      },
      "cell_type": "code",
      "source": [
        ""
      ],
      "execution_count": 0,
      "outputs": []
    },
    {
      "metadata": {
        "id": "BlvhQpkgov2o",
        "colab_type": "text"
      },
      "cell_type": "markdown",
      "source": [
        "#### Removing unecesary fields and rearrange data\n",
        "We are not interested in all the data in our dataset. We can remove unnecessary fields using the DataFrame function `drop` and indicating which column names to remove. The drop function returns the existing DataFrame with the indicated columns removed. This is completed as follows:\n",
        "```python\n",
        "planets_drop = planets_df.drop(columns=[\"name\", \"climate\", \"created\", \"films\",\n",
        "                                        \"edited\", \"gravity\", \"residents\",\n",
        "                                        \"terrain\", \"url\"])\n",
        "```\n",
        "We first declare a new DataFrame `planets_drop`. We then call the drop method on planets_df and indicate the columns to drop using the keyword `columns` and set a list of column names we want to remove from the original `planets_df` DataFrame.\n",
        "\n",
        "We will also rearrange our data set so that `name` is the first field of our DataFrame. The new `planets_drop` DataFrame does not have a 'name' field. We can use the 'name' field from `planets_df` and insert it into the first position of `planets_drop`:\n",
        "```python\n",
        "planets_drop.insert(0, \"name\", planets_df.name)\n",
        "```\n",
        "Here we use the `insert` method on `planets_drop` to first indicate a position at which to insert the field (0), the name of the new field (\"name\"), and the data (`planets_df.name`).\n",
        "\n",
        "**TODO: Use the code cell below to create a new DataFrame `planets_drop` containing only the fields 'name',\t'diameter',\t'orbital_period',\t'population',\t'rotation_period',\t'surface_water', and\t'film_count'.  Add the 'name' field from the original DataFrame `planets_df` to the front of `planets_drop`. Print the results.**"
      ]
    },
    {
      "metadata": {
        "id": "9li5BzeFqAKX",
        "colab_type": "code",
        "colab": {}
      },
      "cell_type": "code",
      "source": [
        "# A List of the columns to be dropped\n",
        "dropColumns = [\"name\", \"climate\", \"created\", \"films\", \"edited\", \"gravity\",\n",
        "               \"residents\", \"terrain\", \"url\"]\n"
      ],
      "execution_count": 0,
      "outputs": []
    },
    {
      "metadata": {
        "id": "UXkVlqjNlQp0",
        "colab_type": "text"
      },
      "cell_type": "markdown",
      "source": [
        "#### Converting to the correct data type\n",
        "If we look closely at the data returned by the SWAPI it might not be in the expected form. For example, we would expect the field `diameter` in the planets rsource to contain numerical values. However, if we look at the data type of an individual value we see this data is actually a string:"
      ]
    },
    {
      "metadata": {
        "id": "fnsBo4u8S0lG",
        "colab_type": "code",
        "colab": {
          "base_uri": "https://localhost:8080/",
          "height": 35
        },
        "outputId": "1703a1fe-45f5-42b1-acf7-1aef6ca75b51"
      },
      "cell_type": "code",
      "source": [
        "# Print the data type of the first diameter value in planets_drop\n",
        "type(planets_drop.diameter[0])"
      ],
      "execution_count": 81,
      "outputs": [
        {
          "output_type": "execute_result",
          "data": {
            "text/plain": [
              "str"
            ]
          },
          "metadata": {
            "tags": []
          },
          "execution_count": 81
        }
      ]
    },
    {
      "metadata": {
        "id": "f-1G_jGBco6E",
        "colab_type": "text"
      },
      "cell_type": "markdown",
      "source": [
        "In order to properly work with our data we need to convert the numbers that are currently encoded as strings to a numeric type. We will use the apply function again to replace the string data contained in columns 1-6 with numeric data. This is completed as follows:\n",
        "```python\n",
        "planets_drop.iloc[:,1:] = planets_drop.iloc[:,1:].apply(\n",
        "    lambda x: pd.to_numeric(x, errors=\"coerce\"))\n",
        "```\n",
        "In this block of code we first call all the rows in columns 1-6 in `planets_drop` using the function `iloc` (`planets_drop.iloc[:,1:]`), we will be replacing the current data contained in these fields with the output of our function. Next we call the same data (`planets_drop.iloc[:,1:]`) and apply a function to each column of data. We use the Pandas method `to_numeric` to convert a column of data to a numeric form (`lambda x: pd.to_numeric(x, errors=\"coerce\")`). In this case we set the `errors` keyword to \"coerce\" to set any values that cannot be converted to a number to the special value `NaN` (several of our columns contain the value 'unknown', this cannot be converted to a number).\n",
        "\n",
        "**TODO: Use the code cell below to update `planets_drop` by converting the values in columns 1-6 to numeric data type. Print the results**"
      ]
    },
    {
      "metadata": {
        "id": "eM9z6A5eXcas",
        "colab_type": "code",
        "colab": {}
      },
      "cell_type": "code",
      "source": [
        ""
      ],
      "execution_count": 0,
      "outputs": []
    },
    {
      "metadata": {
        "id": "2E9L66cXlfue",
        "colab_type": "text"
      },
      "cell_type": "markdown",
      "source": [
        "#### Making graphs\n",
        "With the new formatted data we can begin to check out some of the general features of the data set. We will use Matplotlib functions to create a bar graph to observe the film count of all the planets and determine if there is a relationship between a planet's orbital period and its rotation period."
      ]
    },
    {
      "metadata": {
        "id": "9tRDLkuZ2X0Y",
        "colab_type": "code",
        "outputId": "94b4b816-c718-400a-807e-a6cef7bf8940",
        "colab": {
          "base_uri": "https://localhost:8080/",
          "height": 53
        }
      },
      "cell_type": "code",
      "source": [
        "# Set the figure size of the plot\n",
        "plt.figure(figsize=([15,18]))\n",
        "\n",
        "# create a horizontal bar graph of planet name and planet film_count.\n",
        "\n",
        "# Uncomment the line below to print the plot\n",
        "# plt.barh(planets_drop.name, planets_drop.film_count)"
      ],
      "execution_count": 83,
      "outputs": [
        {
          "output_type": "execute_result",
          "data": {
            "text/plain": [
              "<Figure size 1080x1296 with 0 Axes>"
            ]
          },
          "metadata": {
            "tags": []
          },
          "execution_count": 83
        },
        {
          "output_type": "display_data",
          "data": {
            "text/plain": [
              "<Figure size 1080x1296 with 0 Axes>"
            ]
          },
          "metadata": {
            "tags": []
          }
        }
      ]
    },
    {
      "metadata": {
        "id": "NCd-JPw37DBh",
        "colab_type": "code",
        "colab": {}
      },
      "cell_type": "code",
      "source": [
        "# Create a scatter plot of orbital period against rotation period. Is there any\n",
        "# identifiable relationship?\n",
        "\n",
        "# Uncomment the line below to print the plot\n",
        "# plt.scatter(planets_drop.orbital_period, planets_drop.rotation_period)"
      ],
      "execution_count": 0,
      "outputs": []
    }
  ]
}